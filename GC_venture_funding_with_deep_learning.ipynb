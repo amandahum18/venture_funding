{
  "nbformat": 4,
  "nbformat_minor": 0,
  "metadata": {
    "kernelspec": {
      "display_name": "Python 3",
      "language": "python",
      "name": "python3"
    },
    "language_info": {
      "codemirror_mode": {
        "name": "ipython",
        "version": 3
      },
      "file_extension": ".py",
      "mimetype": "text/x-python",
      "name": "python",
      "nbconvert_exporter": "python",
      "pygments_lexer": "ipython3",
      "version": "3.7.7"
    },
    "colab": {
      "name": "GC_venture_funding_with_deep_learning.ipynb",
      "provenance": [],
      "collapsed_sections": [
        "0q7pN2XKURsJ"
      ]
    }
  },
  "cells": [
    {
      "cell_type": "markdown",
      "metadata": {
        "id": "JmEcaJzVURr_"
      },
      "source": [
        "# Venture Funding with Deep Learning\n",
        "\n",
        "You work as a risk management associate at Alphabet Soup, a venture capital firm. Alphabet Soup’s business team receives many funding applications from startups every day. This team has asked you to help them create a model that predicts whether applicants will be successful if funded by Alphabet Soup.\n",
        "\n",
        "The business team has given you a CSV containing more than 34,000 organizations that have received funding from Alphabet Soup over the years. With your knowledge of machine learning and neural networks, you decide to use the features in the provided dataset to create a binary classifier model that will predict whether an applicant will become a successful business. The CSV file contains a variety of information about these businesses, including whether or not they ultimately became successful.\n",
        "\n",
        "## Instructions:\n",
        "\n",
        "The steps for this challenge are broken out into the following sections:\n",
        "\n",
        "* Prepare the data for use on a neural network model.\n",
        "\n",
        "* Compile and evaluate a binary classification model using a neural network.\n",
        "\n",
        "* Optimize the neural network model.\n",
        "\n",
        "### Prepare the Data for Use on a Neural Network Model \n",
        "\n",
        "Using your knowledge of Pandas and scikit-learn’s `StandardScaler()`, preprocess the dataset so that you can use it to compile and evaluate the neural network model later.\n",
        "\n",
        "Open the starter code file, and complete the following data preparation steps:\n",
        "\n",
        "1. Read the `applicants_data.csv` file into a Pandas DataFrame. Review the DataFrame, looking for categorical variables that will need to be encoded, as well as columns that could eventually define your features and target variables.   \n",
        "\n",
        "2. Drop the “EIN” (Employer Identification Number) and “NAME” columns from the DataFrame, because they are not relevant to the binary classification model.\n",
        " \n",
        "3. Encode the dataset’s categorical variables using `OneHotEncoder`, and then place the encoded variables into a new DataFrame.\n",
        "\n",
        "4. Add the original DataFrame’s numerical variables to the DataFrame containing the encoded variables.\n",
        "\n",
        "> **Note** To complete this step, you will employ the Pandas `concat()` function that was introduced earlier in this course. \n",
        "\n",
        "5. Using the preprocessed data, create the features (`X`) and target (`y`) datasets. The target dataset should be defined by the preprocessed DataFrame column “IS_SUCCESSFUL”. The remaining columns should define the features dataset. \n",
        "\n",
        "6. Split the features and target sets into training and testing datasets.\n",
        "\n",
        "7. Use scikit-learn's `StandardScaler` to scale the features data.\n",
        "\n",
        "### Compile and Evaluate a Binary Classification Model Using a Neural Network\n",
        "\n",
        "Use your knowledge of TensorFlow to design a binary classification deep neural network model. This model should use the dataset’s features to predict whether an Alphabet Soup&ndash;funded startup will be successful based on the features in the dataset. Consider the number of inputs before determining the number of layers that your model will contain or the number of neurons on each layer. Then, compile and fit your model. Finally, evaluate your binary classification model to calculate the model’s loss and accuracy. \n",
        " \n",
        "To do so, complete the following steps:\n",
        "\n",
        "1. Create a deep neural network by assigning the number of input features, the number of layers, and the number of neurons on each layer using Tensorflow’s Keras.\n",
        "\n",
        "> **Hint** You can start with a two-layer deep neural network model that uses the `relu` activation function for both layers.\n",
        "\n",
        "2. Compile and fit the model using the `binary_crossentropy` loss function, the `adam` optimizer, and the `accuracy` evaluation metric.\n",
        "\n",
        "> **Hint** When fitting the model, start with a small number of epochs, such as 20, 50, or 100.\n",
        "\n",
        "3. Evaluate the model using the test data to determine the model’s loss and accuracy.\n",
        "\n",
        "4. Save and export your model to an HDF5 file, and name the file `AlphabetSoup.h5`. \n",
        "\n",
        "### Optimize the Neural Network Model\n",
        "\n",
        "Using your knowledge of TensorFlow and Keras, optimize your model to improve the model's accuracy. Even if you do not successfully achieve a better accuracy, you'll need to demonstrate at least two attempts to optimize the model. You can include these attempts in your existing notebook. Or, you can make copies of the starter notebook in the same folder, rename them, and code each model optimization in a new notebook. \n",
        "\n",
        "> **Note** You will not lose points if your model does not achieve a high accuracy, as long as you make at least two attempts to optimize the model.\n",
        "\n",
        "To do so, complete the following steps:\n",
        "\n",
        "1. Define at least three new deep neural network models (the original plus 2 optimization attempts). With each, try to improve on your first model’s predictive accuracy.\n",
        "\n",
        "> **Rewind** Recall that perfect accuracy has a value of 1, so accuracy improves as its value moves closer to 1. To optimize your model for a predictive accuracy as close to 1 as possible, you can use any or all of the following techniques:\n",
        ">\n",
        "> * Adjust the input data by dropping different features columns to ensure that no variables or outliers confuse the model.\n",
        ">\n",
        "> * Add more neurons (nodes) to a hidden layer.\n",
        ">\n",
        "> * Add more hidden layers.\n",
        ">\n",
        "> * Use different activation functions for the hidden layers.\n",
        ">\n",
        "> * Add to or reduce the number of epochs in the training regimen.\n",
        "\n",
        "2. After finishing your models, display the accuracy scores achieved by each model, and compare the results.\n",
        "\n",
        "3. Save each of your models as an HDF5 file.\n"
      ]
    },
    {
      "cell_type": "code",
      "metadata": {
        "id": "6XiL4BeyURsD"
      },
      "source": [
        "# Imports\n",
        "import pandas as pd\n",
        "import tensorflow as tf\n",
        "from tensorflow.keras.layers import Dense\n",
        "from tensorflow.keras.models import Sequential\n",
        "from sklearn.model_selection import train_test_split\n",
        "from sklearn.preprocessing import StandardScaler,OneHotEncoder"
      ],
      "execution_count": 1,
      "outputs": []
    },
    {
      "cell_type": "markdown",
      "metadata": {
        "id": "JzvfMq--URsD"
      },
      "source": [
        "---\n",
        "\n",
        "## Prepare the data to be used on a neural network model"
      ]
    },
    {
      "cell_type": "markdown",
      "metadata": {
        "id": "pJWhWy1zURsE"
      },
      "source": [
        "### Step 1: Read the `applicants_data.csv` file into a Pandas DataFrame. Review the DataFrame, looking for categorical variables that will need to be encoded, as well as columns that could eventually define your features and target variables.  \n"
      ]
    },
    {
      "cell_type": "code",
      "metadata": {
        "id": "5GsFRRuGU9r-",
        "colab": {
          "resources": {
            "http://localhost:8080/nbextensions/google.colab/files.js": {
              "data": "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",
              "ok": true,
              "headers": [
                [
                  "content-type",
                  "application/javascript"
                ]
              ],
              "status": 200,
              "status_text": ""
            }
          },
          "base_uri": "https://localhost:8080/",
          "height": 73
        },
        "outputId": "3afec0fb-0a9e-4b6d-a802-90de88900e0b"
      },
      "source": [
        "# Upload credit_card_transactions.csv to Colab\n",
        "from google.colab import files\n",
        "\n",
        "csv_file = files.upload()"
      ],
      "execution_count": 2,
      "outputs": [
        {
          "output_type": "display_data",
          "data": {
            "text/plain": [
              "<IPython.core.display.HTML object>"
            ],
            "text/html": [
              "\n",
              "     <input type=\"file\" id=\"files-3fcf1e3a-f6b3-49ca-83d7-ff95f3498e54\" name=\"files[]\" multiple disabled\n",
              "        style=\"border:none\" />\n",
              "     <output id=\"result-3fcf1e3a-f6b3-49ca-83d7-ff95f3498e54\">\n",
              "      Upload widget is only available when the cell has been executed in the\n",
              "      current browser session. Please rerun this cell to enable.\n",
              "      </output>\n",
              "      <script src=\"/nbextensions/google.colab/files.js\"></script> "
            ]
          },
          "metadata": {}
        },
        {
          "output_type": "stream",
          "name": "stdout",
          "text": [
            "Saving applicants_data.csv to applicants_data (1).csv\n"
          ]
        }
      ]
    },
    {
      "cell_type": "code",
      "metadata": {
        "id": "gSTFDSzYURsE",
        "colab": {
          "base_uri": "https://localhost:8080/",
          "height": 496
        },
        "outputId": "a5ed6cc0-c353-477c-e482-f7f92a7b3223"
      },
      "source": [
        "# Read the applicants_data.csv file from the Resources folder into a Pandas DataFrame\n",
        "applicant_data_df = pd.read_csv('applicants_data.csv')\n",
        "\n",
        "# Review the DataFrame\n",
        "applicant_data_df.head()\n"
      ],
      "execution_count": 3,
      "outputs": [
        {
          "output_type": "execute_result",
          "data": {
            "text/plain": [
              "        EIN                                      NAME APPLICATION_TYPE  \\\n",
              "0  10520599              BLUE KNIGHTS MOTORCYCLE CLUB              T10   \n",
              "1  10531628    AMERICAN CHESAPEAKE CLUB CHARITABLE TR               T3   \n",
              "2  10547893        ST CLOUD PROFESSIONAL FIREFIGHTERS               T5   \n",
              "3  10553066            SOUTHSIDE ATHLETIC ASSOCIATION               T3   \n",
              "4  10556103  GENETIC RESEARCH INSTITUTE OF THE DESERT               T3   \n",
              "\n",
              "        AFFILIATION CLASSIFICATION      USE_CASE  ORGANIZATION  STATUS  \\\n",
              "0       Independent          C1000    ProductDev   Association       1   \n",
              "1       Independent          C2000  Preservation  Co-operative       1   \n",
              "2  CompanySponsored          C3000    ProductDev   Association       1   \n",
              "3  CompanySponsored          C2000  Preservation         Trust       1   \n",
              "4       Independent          C1000     Heathcare         Trust       1   \n",
              "\n",
              "      INCOME_AMT SPECIAL_CONSIDERATIONS  ASK_AMT  IS_SUCCESSFUL  \n",
              "0              0                      N     5000              1  \n",
              "1         1-9999                      N   108590              1  \n",
              "2              0                      N     5000              0  \n",
              "3    10000-24999                      N     6692              1  \n",
              "4  100000-499999                      N   142590              1  "
            ],
            "text/html": [
              "\n",
              "  <div id=\"df-58810754-c5c2-46df-a923-920e816be525\">\n",
              "    <div class=\"colab-df-container\">\n",
              "      <div>\n",
              "<style scoped>\n",
              "    .dataframe tbody tr th:only-of-type {\n",
              "        vertical-align: middle;\n",
              "    }\n",
              "\n",
              "    .dataframe tbody tr th {\n",
              "        vertical-align: top;\n",
              "    }\n",
              "\n",
              "    .dataframe thead th {\n",
              "        text-align: right;\n",
              "    }\n",
              "</style>\n",
              "<table border=\"1\" class=\"dataframe\">\n",
              "  <thead>\n",
              "    <tr style=\"text-align: right;\">\n",
              "      <th></th>\n",
              "      <th>EIN</th>\n",
              "      <th>NAME</th>\n",
              "      <th>APPLICATION_TYPE</th>\n",
              "      <th>AFFILIATION</th>\n",
              "      <th>CLASSIFICATION</th>\n",
              "      <th>USE_CASE</th>\n",
              "      <th>ORGANIZATION</th>\n",
              "      <th>STATUS</th>\n",
              "      <th>INCOME_AMT</th>\n",
              "      <th>SPECIAL_CONSIDERATIONS</th>\n",
              "      <th>ASK_AMT</th>\n",
              "      <th>IS_SUCCESSFUL</th>\n",
              "    </tr>\n",
              "  </thead>\n",
              "  <tbody>\n",
              "    <tr>\n",
              "      <th>0</th>\n",
              "      <td>10520599</td>\n",
              "      <td>BLUE KNIGHTS MOTORCYCLE CLUB</td>\n",
              "      <td>T10</td>\n",
              "      <td>Independent</td>\n",
              "      <td>C1000</td>\n",
              "      <td>ProductDev</td>\n",
              "      <td>Association</td>\n",
              "      <td>1</td>\n",
              "      <td>0</td>\n",
              "      <td>N</td>\n",
              "      <td>5000</td>\n",
              "      <td>1</td>\n",
              "    </tr>\n",
              "    <tr>\n",
              "      <th>1</th>\n",
              "      <td>10531628</td>\n",
              "      <td>AMERICAN CHESAPEAKE CLUB CHARITABLE TR</td>\n",
              "      <td>T3</td>\n",
              "      <td>Independent</td>\n",
              "      <td>C2000</td>\n",
              "      <td>Preservation</td>\n",
              "      <td>Co-operative</td>\n",
              "      <td>1</td>\n",
              "      <td>1-9999</td>\n",
              "      <td>N</td>\n",
              "      <td>108590</td>\n",
              "      <td>1</td>\n",
              "    </tr>\n",
              "    <tr>\n",
              "      <th>2</th>\n",
              "      <td>10547893</td>\n",
              "      <td>ST CLOUD PROFESSIONAL FIREFIGHTERS</td>\n",
              "      <td>T5</td>\n",
              "      <td>CompanySponsored</td>\n",
              "      <td>C3000</td>\n",
              "      <td>ProductDev</td>\n",
              "      <td>Association</td>\n",
              "      <td>1</td>\n",
              "      <td>0</td>\n",
              "      <td>N</td>\n",
              "      <td>5000</td>\n",
              "      <td>0</td>\n",
              "    </tr>\n",
              "    <tr>\n",
              "      <th>3</th>\n",
              "      <td>10553066</td>\n",
              "      <td>SOUTHSIDE ATHLETIC ASSOCIATION</td>\n",
              "      <td>T3</td>\n",
              "      <td>CompanySponsored</td>\n",
              "      <td>C2000</td>\n",
              "      <td>Preservation</td>\n",
              "      <td>Trust</td>\n",
              "      <td>1</td>\n",
              "      <td>10000-24999</td>\n",
              "      <td>N</td>\n",
              "      <td>6692</td>\n",
              "      <td>1</td>\n",
              "    </tr>\n",
              "    <tr>\n",
              "      <th>4</th>\n",
              "      <td>10556103</td>\n",
              "      <td>GENETIC RESEARCH INSTITUTE OF THE DESERT</td>\n",
              "      <td>T3</td>\n",
              "      <td>Independent</td>\n",
              "      <td>C1000</td>\n",
              "      <td>Heathcare</td>\n",
              "      <td>Trust</td>\n",
              "      <td>1</td>\n",
              "      <td>100000-499999</td>\n",
              "      <td>N</td>\n",
              "      <td>142590</td>\n",
              "      <td>1</td>\n",
              "    </tr>\n",
              "  </tbody>\n",
              "</table>\n",
              "</div>\n",
              "      <button class=\"colab-df-convert\" onclick=\"convertToInteractive('df-58810754-c5c2-46df-a923-920e816be525')\"\n",
              "              title=\"Convert this dataframe to an interactive table.\"\n",
              "              style=\"display:none;\">\n",
              "        \n",
              "  <svg xmlns=\"http://www.w3.org/2000/svg\" height=\"24px\"viewBox=\"0 0 24 24\"\n",
              "       width=\"24px\">\n",
              "    <path d=\"M0 0h24v24H0V0z\" fill=\"none\"/>\n",
              "    <path d=\"M18.56 5.44l.94 2.06.94-2.06 2.06-.94-2.06-.94-.94-2.06-.94 2.06-2.06.94zm-11 1L8.5 8.5l.94-2.06 2.06-.94-2.06-.94L8.5 2.5l-.94 2.06-2.06.94zm10 10l.94 2.06.94-2.06 2.06-.94-2.06-.94-.94-2.06-.94 2.06-2.06.94z\"/><path d=\"M17.41 7.96l-1.37-1.37c-.4-.4-.92-.59-1.43-.59-.52 0-1.04.2-1.43.59L10.3 9.45l-7.72 7.72c-.78.78-.78 2.05 0 2.83L4 21.41c.39.39.9.59 1.41.59.51 0 1.02-.2 1.41-.59l7.78-7.78 2.81-2.81c.8-.78.8-2.07 0-2.86zM5.41 20L4 18.59l7.72-7.72 1.47 1.35L5.41 20z\"/>\n",
              "  </svg>\n",
              "      </button>\n",
              "      \n",
              "  <style>\n",
              "    .colab-df-container {\n",
              "      display:flex;\n",
              "      flex-wrap:wrap;\n",
              "      gap: 12px;\n",
              "    }\n",
              "\n",
              "    .colab-df-convert {\n",
              "      background-color: #E8F0FE;\n",
              "      border: none;\n",
              "      border-radius: 50%;\n",
              "      cursor: pointer;\n",
              "      display: none;\n",
              "      fill: #1967D2;\n",
              "      height: 32px;\n",
              "      padding: 0 0 0 0;\n",
              "      width: 32px;\n",
              "    }\n",
              "\n",
              "    .colab-df-convert:hover {\n",
              "      background-color: #E2EBFA;\n",
              "      box-shadow: 0px 1px 2px rgba(60, 64, 67, 0.3), 0px 1px 3px 1px rgba(60, 64, 67, 0.15);\n",
              "      fill: #174EA6;\n",
              "    }\n",
              "\n",
              "    [theme=dark] .colab-df-convert {\n",
              "      background-color: #3B4455;\n",
              "      fill: #D2E3FC;\n",
              "    }\n",
              "\n",
              "    [theme=dark] .colab-df-convert:hover {\n",
              "      background-color: #434B5C;\n",
              "      box-shadow: 0px 1px 3px 1px rgba(0, 0, 0, 0.15);\n",
              "      filter: drop-shadow(0px 1px 2px rgba(0, 0, 0, 0.3));\n",
              "      fill: #FFFFFF;\n",
              "    }\n",
              "  </style>\n",
              "\n",
              "      <script>\n",
              "        const buttonEl =\n",
              "          document.querySelector('#df-58810754-c5c2-46df-a923-920e816be525 button.colab-df-convert');\n",
              "        buttonEl.style.display =\n",
              "          google.colab.kernel.accessAllowed ? 'block' : 'none';\n",
              "\n",
              "        async function convertToInteractive(key) {\n",
              "          const element = document.querySelector('#df-58810754-c5c2-46df-a923-920e816be525');\n",
              "          const dataTable =\n",
              "            await google.colab.kernel.invokeFunction('convertToInteractive',\n",
              "                                                     [key], {});\n",
              "          if (!dataTable) return;\n",
              "\n",
              "          const docLinkHtml = 'Like what you see? Visit the ' +\n",
              "            '<a target=\"_blank\" href=https://colab.research.google.com/notebooks/data_table.ipynb>data table notebook</a>'\n",
              "            + ' to learn more about interactive tables.';\n",
              "          element.innerHTML = '';\n",
              "          dataTable['output_type'] = 'display_data';\n",
              "          await google.colab.output.renderOutput(dataTable, element);\n",
              "          const docLink = document.createElement('div');\n",
              "          docLink.innerHTML = docLinkHtml;\n",
              "          element.appendChild(docLink);\n",
              "        }\n",
              "      </script>\n",
              "    </div>\n",
              "  </div>\n",
              "  "
            ]
          },
          "metadata": {},
          "execution_count": 3
        }
      ]
    },
    {
      "cell_type": "code",
      "metadata": {
        "id": "C-WB0yc4URsE",
        "colab": {
          "base_uri": "https://localhost:8080/"
        },
        "outputId": "2ff87711-a561-452a-c6d2-162198a43ea6"
      },
      "source": [
        "# Review the data types associated with the columns\n",
        "applicant_data_df.dtypes\n"
      ],
      "execution_count": 4,
      "outputs": [
        {
          "output_type": "execute_result",
          "data": {
            "text/plain": [
              "EIN                        int64\n",
              "NAME                      object\n",
              "APPLICATION_TYPE          object\n",
              "AFFILIATION               object\n",
              "CLASSIFICATION            object\n",
              "USE_CASE                  object\n",
              "ORGANIZATION              object\n",
              "STATUS                     int64\n",
              "INCOME_AMT                object\n",
              "SPECIAL_CONSIDERATIONS    object\n",
              "ASK_AMT                    int64\n",
              "IS_SUCCESSFUL              int64\n",
              "dtype: object"
            ]
          },
          "metadata": {},
          "execution_count": 4
        }
      ]
    },
    {
      "cell_type": "markdown",
      "metadata": {
        "id": "XCwg3ahTURsE"
      },
      "source": [
        "### Step 2: Drop the “EIN” (Employer Identification Number) and “NAME” columns from the DataFrame, because they are not relevant to the binary classification model."
      ]
    },
    {
      "cell_type": "code",
      "metadata": {
        "id": "dj7yoYaAURsE",
        "colab": {
          "base_uri": "https://localhost:8080/",
          "height": 206
        },
        "outputId": "42e709af-6f9b-4e79-a976-7921803841a2"
      },
      "source": [
        "# Drop the 'EIN' and 'NAME' columns from the DataFrame\n",
        "applicant_data_df = applicant_data_df.drop(['EIN', 'NAME'], axis=1)\n",
        "\n",
        "# Review the DataFrame\n",
        "applicant_data_df.head()\n"
      ],
      "execution_count": 5,
      "outputs": [
        {
          "output_type": "execute_result",
          "data": {
            "text/plain": [
              "  APPLICATION_TYPE       AFFILIATION CLASSIFICATION      USE_CASE  \\\n",
              "0              T10       Independent          C1000    ProductDev   \n",
              "1               T3       Independent          C2000  Preservation   \n",
              "2               T5  CompanySponsored          C3000    ProductDev   \n",
              "3               T3  CompanySponsored          C2000  Preservation   \n",
              "4               T3       Independent          C1000     Heathcare   \n",
              "\n",
              "   ORGANIZATION  STATUS     INCOME_AMT SPECIAL_CONSIDERATIONS  ASK_AMT  \\\n",
              "0   Association       1              0                      N     5000   \n",
              "1  Co-operative       1         1-9999                      N   108590   \n",
              "2   Association       1              0                      N     5000   \n",
              "3         Trust       1    10000-24999                      N     6692   \n",
              "4         Trust       1  100000-499999                      N   142590   \n",
              "\n",
              "   IS_SUCCESSFUL  \n",
              "0              1  \n",
              "1              1  \n",
              "2              0  \n",
              "3              1  \n",
              "4              1  "
            ],
            "text/html": [
              "\n",
              "  <div id=\"df-60e141f1-5b2f-4e54-b94d-c0f1c3a9fc6d\">\n",
              "    <div class=\"colab-df-container\">\n",
              "      <div>\n",
              "<style scoped>\n",
              "    .dataframe tbody tr th:only-of-type {\n",
              "        vertical-align: middle;\n",
              "    }\n",
              "\n",
              "    .dataframe tbody tr th {\n",
              "        vertical-align: top;\n",
              "    }\n",
              "\n",
              "    .dataframe thead th {\n",
              "        text-align: right;\n",
              "    }\n",
              "</style>\n",
              "<table border=\"1\" class=\"dataframe\">\n",
              "  <thead>\n",
              "    <tr style=\"text-align: right;\">\n",
              "      <th></th>\n",
              "      <th>APPLICATION_TYPE</th>\n",
              "      <th>AFFILIATION</th>\n",
              "      <th>CLASSIFICATION</th>\n",
              "      <th>USE_CASE</th>\n",
              "      <th>ORGANIZATION</th>\n",
              "      <th>STATUS</th>\n",
              "      <th>INCOME_AMT</th>\n",
              "      <th>SPECIAL_CONSIDERATIONS</th>\n",
              "      <th>ASK_AMT</th>\n",
              "      <th>IS_SUCCESSFUL</th>\n",
              "    </tr>\n",
              "  </thead>\n",
              "  <tbody>\n",
              "    <tr>\n",
              "      <th>0</th>\n",
              "      <td>T10</td>\n",
              "      <td>Independent</td>\n",
              "      <td>C1000</td>\n",
              "      <td>ProductDev</td>\n",
              "      <td>Association</td>\n",
              "      <td>1</td>\n",
              "      <td>0</td>\n",
              "      <td>N</td>\n",
              "      <td>5000</td>\n",
              "      <td>1</td>\n",
              "    </tr>\n",
              "    <tr>\n",
              "      <th>1</th>\n",
              "      <td>T3</td>\n",
              "      <td>Independent</td>\n",
              "      <td>C2000</td>\n",
              "      <td>Preservation</td>\n",
              "      <td>Co-operative</td>\n",
              "      <td>1</td>\n",
              "      <td>1-9999</td>\n",
              "      <td>N</td>\n",
              "      <td>108590</td>\n",
              "      <td>1</td>\n",
              "    </tr>\n",
              "    <tr>\n",
              "      <th>2</th>\n",
              "      <td>T5</td>\n",
              "      <td>CompanySponsored</td>\n",
              "      <td>C3000</td>\n",
              "      <td>ProductDev</td>\n",
              "      <td>Association</td>\n",
              "      <td>1</td>\n",
              "      <td>0</td>\n",
              "      <td>N</td>\n",
              "      <td>5000</td>\n",
              "      <td>0</td>\n",
              "    </tr>\n",
              "    <tr>\n",
              "      <th>3</th>\n",
              "      <td>T3</td>\n",
              "      <td>CompanySponsored</td>\n",
              "      <td>C2000</td>\n",
              "      <td>Preservation</td>\n",
              "      <td>Trust</td>\n",
              "      <td>1</td>\n",
              "      <td>10000-24999</td>\n",
              "      <td>N</td>\n",
              "      <td>6692</td>\n",
              "      <td>1</td>\n",
              "    </tr>\n",
              "    <tr>\n",
              "      <th>4</th>\n",
              "      <td>T3</td>\n",
              "      <td>Independent</td>\n",
              "      <td>C1000</td>\n",
              "      <td>Heathcare</td>\n",
              "      <td>Trust</td>\n",
              "      <td>1</td>\n",
              "      <td>100000-499999</td>\n",
              "      <td>N</td>\n",
              "      <td>142590</td>\n",
              "      <td>1</td>\n",
              "    </tr>\n",
              "  </tbody>\n",
              "</table>\n",
              "</div>\n",
              "      <button class=\"colab-df-convert\" onclick=\"convertToInteractive('df-60e141f1-5b2f-4e54-b94d-c0f1c3a9fc6d')\"\n",
              "              title=\"Convert this dataframe to an interactive table.\"\n",
              "              style=\"display:none;\">\n",
              "        \n",
              "  <svg xmlns=\"http://www.w3.org/2000/svg\" height=\"24px\"viewBox=\"0 0 24 24\"\n",
              "       width=\"24px\">\n",
              "    <path d=\"M0 0h24v24H0V0z\" fill=\"none\"/>\n",
              "    <path d=\"M18.56 5.44l.94 2.06.94-2.06 2.06-.94-2.06-.94-.94-2.06-.94 2.06-2.06.94zm-11 1L8.5 8.5l.94-2.06 2.06-.94-2.06-.94L8.5 2.5l-.94 2.06-2.06.94zm10 10l.94 2.06.94-2.06 2.06-.94-2.06-.94-.94-2.06-.94 2.06-2.06.94z\"/><path d=\"M17.41 7.96l-1.37-1.37c-.4-.4-.92-.59-1.43-.59-.52 0-1.04.2-1.43.59L10.3 9.45l-7.72 7.72c-.78.78-.78 2.05 0 2.83L4 21.41c.39.39.9.59 1.41.59.51 0 1.02-.2 1.41-.59l7.78-7.78 2.81-2.81c.8-.78.8-2.07 0-2.86zM5.41 20L4 18.59l7.72-7.72 1.47 1.35L5.41 20z\"/>\n",
              "  </svg>\n",
              "      </button>\n",
              "      \n",
              "  <style>\n",
              "    .colab-df-container {\n",
              "      display:flex;\n",
              "      flex-wrap:wrap;\n",
              "      gap: 12px;\n",
              "    }\n",
              "\n",
              "    .colab-df-convert {\n",
              "      background-color: #E8F0FE;\n",
              "      border: none;\n",
              "      border-radius: 50%;\n",
              "      cursor: pointer;\n",
              "      display: none;\n",
              "      fill: #1967D2;\n",
              "      height: 32px;\n",
              "      padding: 0 0 0 0;\n",
              "      width: 32px;\n",
              "    }\n",
              "\n",
              "    .colab-df-convert:hover {\n",
              "      background-color: #E2EBFA;\n",
              "      box-shadow: 0px 1px 2px rgba(60, 64, 67, 0.3), 0px 1px 3px 1px rgba(60, 64, 67, 0.15);\n",
              "      fill: #174EA6;\n",
              "    }\n",
              "\n",
              "    [theme=dark] .colab-df-convert {\n",
              "      background-color: #3B4455;\n",
              "      fill: #D2E3FC;\n",
              "    }\n",
              "\n",
              "    [theme=dark] .colab-df-convert:hover {\n",
              "      background-color: #434B5C;\n",
              "      box-shadow: 0px 1px 3px 1px rgba(0, 0, 0, 0.15);\n",
              "      filter: drop-shadow(0px 1px 2px rgba(0, 0, 0, 0.3));\n",
              "      fill: #FFFFFF;\n",
              "    }\n",
              "  </style>\n",
              "\n",
              "      <script>\n",
              "        const buttonEl =\n",
              "          document.querySelector('#df-60e141f1-5b2f-4e54-b94d-c0f1c3a9fc6d button.colab-df-convert');\n",
              "        buttonEl.style.display =\n",
              "          google.colab.kernel.accessAllowed ? 'block' : 'none';\n",
              "\n",
              "        async function convertToInteractive(key) {\n",
              "          const element = document.querySelector('#df-60e141f1-5b2f-4e54-b94d-c0f1c3a9fc6d');\n",
              "          const dataTable =\n",
              "            await google.colab.kernel.invokeFunction('convertToInteractive',\n",
              "                                                     [key], {});\n",
              "          if (!dataTable) return;\n",
              "\n",
              "          const docLinkHtml = 'Like what you see? Visit the ' +\n",
              "            '<a target=\"_blank\" href=https://colab.research.google.com/notebooks/data_table.ipynb>data table notebook</a>'\n",
              "            + ' to learn more about interactive tables.';\n",
              "          element.innerHTML = '';\n",
              "          dataTable['output_type'] = 'display_data';\n",
              "          await google.colab.output.renderOutput(dataTable, element);\n",
              "          const docLink = document.createElement('div');\n",
              "          docLink.innerHTML = docLinkHtml;\n",
              "          element.appendChild(docLink);\n",
              "        }\n",
              "      </script>\n",
              "    </div>\n",
              "  </div>\n",
              "  "
            ]
          },
          "metadata": {},
          "execution_count": 5
        }
      ]
    },
    {
      "cell_type": "markdown",
      "metadata": {
        "id": "WFF35NwZURsF"
      },
      "source": [
        "### Step 3: Encode the dataset’s categorical variables using `OneHotEncoder`, and then place the encoded variables into a new DataFrame."
      ]
    },
    {
      "cell_type": "code",
      "metadata": {
        "id": "aHv_okM7URsF",
        "colab": {
          "base_uri": "https://localhost:8080/"
        },
        "outputId": "e8f864f7-bc8a-41b6-d2c1-58d6de25c7f9"
      },
      "source": [
        "# Create a list of categorical variables \n",
        "categorical_variables = ['APPLICATION_TYPE','AFFILIATION','CLASSIFICATION','USE_CASE','ORGANIZATION','STATUS','INCOME_AMT','SPECIAL_CONSIDERATIONS','IS_SUCCESSFUL']\n",
        "\n",
        "# Display the categorical variables list\n",
        "categorical_variables\n"
      ],
      "execution_count": 6,
      "outputs": [
        {
          "output_type": "execute_result",
          "data": {
            "text/plain": [
              "['APPLICATION_TYPE',\n",
              " 'AFFILIATION',\n",
              " 'CLASSIFICATION',\n",
              " 'USE_CASE',\n",
              " 'ORGANIZATION',\n",
              " 'STATUS',\n",
              " 'INCOME_AMT',\n",
              " 'SPECIAL_CONSIDERATIONS',\n",
              " 'IS_SUCCESSFUL']"
            ]
          },
          "metadata": {},
          "execution_count": 6
        }
      ]
    },
    {
      "cell_type": "code",
      "metadata": {
        "id": "IizC83_xURsF"
      },
      "source": [
        "# Create a OneHotEncoder instance\n",
        "enc = OneHotEncoder(handle_unknown='ignore')\n"
      ],
      "execution_count": 7,
      "outputs": []
    },
    {
      "cell_type": "code",
      "metadata": {
        "id": "fLUlCo48URsF"
      },
      "source": [
        "# Encode the categorcal variables using OneHotEncoder\n",
        "encoded_data = enc.fit_transform(applicant_data_df[categorical_variables])\n"
      ],
      "execution_count": 8,
      "outputs": []
    },
    {
      "cell_type": "code",
      "metadata": {
        "id": "Bj-Hc08qURsF",
        "colab": {
          "base_uri": "https://localhost:8080/",
          "height": 235
        },
        "outputId": "a2154599-eb3e-431e-e2be-9ac2c0142088"
      },
      "source": [
        "# Create a DataFrame with the encoded variables\n",
        "encoded_df = pd.DataFrame(encoded_data.toarray())\n",
        "\n",
        "# Review the DataFrame\n",
        "encoded_df.head()\n"
      ],
      "execution_count": 9,
      "outputs": [
        {
          "output_type": "execute_result",
          "data": {
            "text/plain": [
              "   0    1    2    3    4    5    6    7    8    9    ...  108  109  110  111  \\\n",
              "0  1.0  0.0  0.0  0.0  0.0  0.0  0.0  0.0  0.0  0.0  ...  0.0  0.0  0.0  0.0   \n",
              "1  0.0  0.0  0.0  0.0  0.0  0.0  0.0  0.0  0.0  0.0  ...  0.0  0.0  0.0  0.0   \n",
              "2  0.0  0.0  0.0  0.0  0.0  0.0  0.0  0.0  0.0  0.0  ...  0.0  0.0  0.0  0.0   \n",
              "3  0.0  0.0  0.0  0.0  0.0  0.0  0.0  0.0  0.0  0.0  ...  0.0  0.0  0.0  0.0   \n",
              "4  0.0  0.0  0.0  0.0  0.0  0.0  0.0  0.0  0.0  0.0  ...  1.0  0.0  0.0  0.0   \n",
              "\n",
              "   112  113  114  115  116  117  \n",
              "0  0.0  0.0  1.0  0.0  0.0  1.0  \n",
              "1  0.0  0.0  1.0  0.0  0.0  1.0  \n",
              "2  0.0  0.0  1.0  0.0  1.0  0.0  \n",
              "3  0.0  0.0  1.0  0.0  0.0  1.0  \n",
              "4  0.0  0.0  1.0  0.0  0.0  1.0  \n",
              "\n",
              "[5 rows x 118 columns]"
            ],
            "text/html": [
              "\n",
              "  <div id=\"df-f874c604-fbac-487c-980d-bcbd61083dda\">\n",
              "    <div class=\"colab-df-container\">\n",
              "      <div>\n",
              "<style scoped>\n",
              "    .dataframe tbody tr th:only-of-type {\n",
              "        vertical-align: middle;\n",
              "    }\n",
              "\n",
              "    .dataframe tbody tr th {\n",
              "        vertical-align: top;\n",
              "    }\n",
              "\n",
              "    .dataframe thead th {\n",
              "        text-align: right;\n",
              "    }\n",
              "</style>\n",
              "<table border=\"1\" class=\"dataframe\">\n",
              "  <thead>\n",
              "    <tr style=\"text-align: right;\">\n",
              "      <th></th>\n",
              "      <th>0</th>\n",
              "      <th>1</th>\n",
              "      <th>2</th>\n",
              "      <th>3</th>\n",
              "      <th>4</th>\n",
              "      <th>5</th>\n",
              "      <th>6</th>\n",
              "      <th>7</th>\n",
              "      <th>8</th>\n",
              "      <th>9</th>\n",
              "      <th>...</th>\n",
              "      <th>108</th>\n",
              "      <th>109</th>\n",
              "      <th>110</th>\n",
              "      <th>111</th>\n",
              "      <th>112</th>\n",
              "      <th>113</th>\n",
              "      <th>114</th>\n",
              "      <th>115</th>\n",
              "      <th>116</th>\n",
              "      <th>117</th>\n",
              "    </tr>\n",
              "  </thead>\n",
              "  <tbody>\n",
              "    <tr>\n",
              "      <th>0</th>\n",
              "      <td>1.0</td>\n",
              "      <td>0.0</td>\n",
              "      <td>0.0</td>\n",
              "      <td>0.0</td>\n",
              "      <td>0.0</td>\n",
              "      <td>0.0</td>\n",
              "      <td>0.0</td>\n",
              "      <td>0.0</td>\n",
              "      <td>0.0</td>\n",
              "      <td>0.0</td>\n",
              "      <td>...</td>\n",
              "      <td>0.0</td>\n",
              "      <td>0.0</td>\n",
              "      <td>0.0</td>\n",
              "      <td>0.0</td>\n",
              "      <td>0.0</td>\n",
              "      <td>0.0</td>\n",
              "      <td>1.0</td>\n",
              "      <td>0.0</td>\n",
              "      <td>0.0</td>\n",
              "      <td>1.0</td>\n",
              "    </tr>\n",
              "    <tr>\n",
              "      <th>1</th>\n",
              "      <td>0.0</td>\n",
              "      <td>0.0</td>\n",
              "      <td>0.0</td>\n",
              "      <td>0.0</td>\n",
              "      <td>0.0</td>\n",
              "      <td>0.0</td>\n",
              "      <td>0.0</td>\n",
              "      <td>0.0</td>\n",
              "      <td>0.0</td>\n",
              "      <td>0.0</td>\n",
              "      <td>...</td>\n",
              "      <td>0.0</td>\n",
              "      <td>0.0</td>\n",
              "      <td>0.0</td>\n",
              "      <td>0.0</td>\n",
              "      <td>0.0</td>\n",
              "      <td>0.0</td>\n",
              "      <td>1.0</td>\n",
              "      <td>0.0</td>\n",
              "      <td>0.0</td>\n",
              "      <td>1.0</td>\n",
              "    </tr>\n",
              "    <tr>\n",
              "      <th>2</th>\n",
              "      <td>0.0</td>\n",
              "      <td>0.0</td>\n",
              "      <td>0.0</td>\n",
              "      <td>0.0</td>\n",
              "      <td>0.0</td>\n",
              "      <td>0.0</td>\n",
              "      <td>0.0</td>\n",
              "      <td>0.0</td>\n",
              "      <td>0.0</td>\n",
              "      <td>0.0</td>\n",
              "      <td>...</td>\n",
              "      <td>0.0</td>\n",
              "      <td>0.0</td>\n",
              "      <td>0.0</td>\n",
              "      <td>0.0</td>\n",
              "      <td>0.0</td>\n",
              "      <td>0.0</td>\n",
              "      <td>1.0</td>\n",
              "      <td>0.0</td>\n",
              "      <td>1.0</td>\n",
              "      <td>0.0</td>\n",
              "    </tr>\n",
              "    <tr>\n",
              "      <th>3</th>\n",
              "      <td>0.0</td>\n",
              "      <td>0.0</td>\n",
              "      <td>0.0</td>\n",
              "      <td>0.0</td>\n",
              "      <td>0.0</td>\n",
              "      <td>0.0</td>\n",
              "      <td>0.0</td>\n",
              "      <td>0.0</td>\n",
              "      <td>0.0</td>\n",
              "      <td>0.0</td>\n",
              "      <td>...</td>\n",
              "      <td>0.0</td>\n",
              "      <td>0.0</td>\n",
              "      <td>0.0</td>\n",
              "      <td>0.0</td>\n",
              "      <td>0.0</td>\n",
              "      <td>0.0</td>\n",
              "      <td>1.0</td>\n",
              "      <td>0.0</td>\n",
              "      <td>0.0</td>\n",
              "      <td>1.0</td>\n",
              "    </tr>\n",
              "    <tr>\n",
              "      <th>4</th>\n",
              "      <td>0.0</td>\n",
              "      <td>0.0</td>\n",
              "      <td>0.0</td>\n",
              "      <td>0.0</td>\n",
              "      <td>0.0</td>\n",
              "      <td>0.0</td>\n",
              "      <td>0.0</td>\n",
              "      <td>0.0</td>\n",
              "      <td>0.0</td>\n",
              "      <td>0.0</td>\n",
              "      <td>...</td>\n",
              "      <td>1.0</td>\n",
              "      <td>0.0</td>\n",
              "      <td>0.0</td>\n",
              "      <td>0.0</td>\n",
              "      <td>0.0</td>\n",
              "      <td>0.0</td>\n",
              "      <td>1.0</td>\n",
              "      <td>0.0</td>\n",
              "      <td>0.0</td>\n",
              "      <td>1.0</td>\n",
              "    </tr>\n",
              "  </tbody>\n",
              "</table>\n",
              "<p>5 rows × 118 columns</p>\n",
              "</div>\n",
              "      <button class=\"colab-df-convert\" onclick=\"convertToInteractive('df-f874c604-fbac-487c-980d-bcbd61083dda')\"\n",
              "              title=\"Convert this dataframe to an interactive table.\"\n",
              "              style=\"display:none;\">\n",
              "        \n",
              "  <svg xmlns=\"http://www.w3.org/2000/svg\" height=\"24px\"viewBox=\"0 0 24 24\"\n",
              "       width=\"24px\">\n",
              "    <path d=\"M0 0h24v24H0V0z\" fill=\"none\"/>\n",
              "    <path d=\"M18.56 5.44l.94 2.06.94-2.06 2.06-.94-2.06-.94-.94-2.06-.94 2.06-2.06.94zm-11 1L8.5 8.5l.94-2.06 2.06-.94-2.06-.94L8.5 2.5l-.94 2.06-2.06.94zm10 10l.94 2.06.94-2.06 2.06-.94-2.06-.94-.94-2.06-.94 2.06-2.06.94z\"/><path d=\"M17.41 7.96l-1.37-1.37c-.4-.4-.92-.59-1.43-.59-.52 0-1.04.2-1.43.59L10.3 9.45l-7.72 7.72c-.78.78-.78 2.05 0 2.83L4 21.41c.39.39.9.59 1.41.59.51 0 1.02-.2 1.41-.59l7.78-7.78 2.81-2.81c.8-.78.8-2.07 0-2.86zM5.41 20L4 18.59l7.72-7.72 1.47 1.35L5.41 20z\"/>\n",
              "  </svg>\n",
              "      </button>\n",
              "      \n",
              "  <style>\n",
              "    .colab-df-container {\n",
              "      display:flex;\n",
              "      flex-wrap:wrap;\n",
              "      gap: 12px;\n",
              "    }\n",
              "\n",
              "    .colab-df-convert {\n",
              "      background-color: #E8F0FE;\n",
              "      border: none;\n",
              "      border-radius: 50%;\n",
              "      cursor: pointer;\n",
              "      display: none;\n",
              "      fill: #1967D2;\n",
              "      height: 32px;\n",
              "      padding: 0 0 0 0;\n",
              "      width: 32px;\n",
              "    }\n",
              "\n",
              "    .colab-df-convert:hover {\n",
              "      background-color: #E2EBFA;\n",
              "      box-shadow: 0px 1px 2px rgba(60, 64, 67, 0.3), 0px 1px 3px 1px rgba(60, 64, 67, 0.15);\n",
              "      fill: #174EA6;\n",
              "    }\n",
              "\n",
              "    [theme=dark] .colab-df-convert {\n",
              "      background-color: #3B4455;\n",
              "      fill: #D2E3FC;\n",
              "    }\n",
              "\n",
              "    [theme=dark] .colab-df-convert:hover {\n",
              "      background-color: #434B5C;\n",
              "      box-shadow: 0px 1px 3px 1px rgba(0, 0, 0, 0.15);\n",
              "      filter: drop-shadow(0px 1px 2px rgba(0, 0, 0, 0.3));\n",
              "      fill: #FFFFFF;\n",
              "    }\n",
              "  </style>\n",
              "\n",
              "      <script>\n",
              "        const buttonEl =\n",
              "          document.querySelector('#df-f874c604-fbac-487c-980d-bcbd61083dda button.colab-df-convert');\n",
              "        buttonEl.style.display =\n",
              "          google.colab.kernel.accessAllowed ? 'block' : 'none';\n",
              "\n",
              "        async function convertToInteractive(key) {\n",
              "          const element = document.querySelector('#df-f874c604-fbac-487c-980d-bcbd61083dda');\n",
              "          const dataTable =\n",
              "            await google.colab.kernel.invokeFunction('convertToInteractive',\n",
              "                                                     [key], {});\n",
              "          if (!dataTable) return;\n",
              "\n",
              "          const docLinkHtml = 'Like what you see? Visit the ' +\n",
              "            '<a target=\"_blank\" href=https://colab.research.google.com/notebooks/data_table.ipynb>data table notebook</a>'\n",
              "            + ' to learn more about interactive tables.';\n",
              "          element.innerHTML = '';\n",
              "          dataTable['output_type'] = 'display_data';\n",
              "          await google.colab.output.renderOutput(dataTable, element);\n",
              "          const docLink = document.createElement('div');\n",
              "          docLink.innerHTML = docLinkHtml;\n",
              "          element.appendChild(docLink);\n",
              "        }\n",
              "      </script>\n",
              "    </div>\n",
              "  </div>\n",
              "  "
            ]
          },
          "metadata": {},
          "execution_count": 9
        }
      ]
    },
    {
      "cell_type": "markdown",
      "metadata": {
        "id": "A8Bd0AQTURsF"
      },
      "source": [
        "### Step 4: Add the original DataFrame’s numerical variables to the DataFrame containing the encoded variables.\n",
        "\n",
        "> **Note** To complete this step, you will employ the Pandas `concat()` function that was introduced earlier in this course. "
      ]
    },
    {
      "cell_type": "code",
      "metadata": {
        "id": "r43_PQpFURsG",
        "colab": {
          "base_uri": "https://localhost:8080/",
          "height": 317
        },
        "outputId": "f758e8d6-881c-4e07-8fe3-bb2d5978cc52"
      },
      "source": [
        "# Add the numerical variables from the original DataFrame to the one-hot encoding DataFrame\n",
        "encoded_df = pd.concat([encoded_df,applicant_data_df], axis=1)\n",
        "\n",
        "# Review the Dataframe\n",
        "encoded_df.head()\n"
      ],
      "execution_count": 10,
      "outputs": [
        {
          "output_type": "execute_result",
          "data": {
            "text/plain": [
              "     0    1    2    3    4    5    6    7    8    9  ...  APPLICATION_TYPE  \\\n",
              "0  1.0  0.0  0.0  0.0  0.0  0.0  0.0  0.0  0.0  0.0  ...               T10   \n",
              "1  0.0  0.0  0.0  0.0  0.0  0.0  0.0  0.0  0.0  0.0  ...                T3   \n",
              "2  0.0  0.0  0.0  0.0  0.0  0.0  0.0  0.0  0.0  0.0  ...                T5   \n",
              "3  0.0  0.0  0.0  0.0  0.0  0.0  0.0  0.0  0.0  0.0  ...                T3   \n",
              "4  0.0  0.0  0.0  0.0  0.0  0.0  0.0  0.0  0.0  0.0  ...                T3   \n",
              "\n",
              "        AFFILIATION  CLASSIFICATION      USE_CASE  ORGANIZATION  STATUS  \\\n",
              "0       Independent           C1000    ProductDev   Association       1   \n",
              "1       Independent           C2000  Preservation  Co-operative       1   \n",
              "2  CompanySponsored           C3000    ProductDev   Association       1   \n",
              "3  CompanySponsored           C2000  Preservation         Trust       1   \n",
              "4       Independent           C1000     Heathcare         Trust       1   \n",
              "\n",
              "      INCOME_AMT  SPECIAL_CONSIDERATIONS  ASK_AMT  IS_SUCCESSFUL  \n",
              "0              0                       N     5000              1  \n",
              "1         1-9999                       N   108590              1  \n",
              "2              0                       N     5000              0  \n",
              "3    10000-24999                       N     6692              1  \n",
              "4  100000-499999                       N   142590              1  \n",
              "\n",
              "[5 rows x 128 columns]"
            ],
            "text/html": [
              "\n",
              "  <div id=\"df-f4ace639-08c3-4fde-aad7-30b4cc8ce9e3\">\n",
              "    <div class=\"colab-df-container\">\n",
              "      <div>\n",
              "<style scoped>\n",
              "    .dataframe tbody tr th:only-of-type {\n",
              "        vertical-align: middle;\n",
              "    }\n",
              "\n",
              "    .dataframe tbody tr th {\n",
              "        vertical-align: top;\n",
              "    }\n",
              "\n",
              "    .dataframe thead th {\n",
              "        text-align: right;\n",
              "    }\n",
              "</style>\n",
              "<table border=\"1\" class=\"dataframe\">\n",
              "  <thead>\n",
              "    <tr style=\"text-align: right;\">\n",
              "      <th></th>\n",
              "      <th>0</th>\n",
              "      <th>1</th>\n",
              "      <th>2</th>\n",
              "      <th>3</th>\n",
              "      <th>4</th>\n",
              "      <th>5</th>\n",
              "      <th>6</th>\n",
              "      <th>7</th>\n",
              "      <th>8</th>\n",
              "      <th>9</th>\n",
              "      <th>...</th>\n",
              "      <th>APPLICATION_TYPE</th>\n",
              "      <th>AFFILIATION</th>\n",
              "      <th>CLASSIFICATION</th>\n",
              "      <th>USE_CASE</th>\n",
              "      <th>ORGANIZATION</th>\n",
              "      <th>STATUS</th>\n",
              "      <th>INCOME_AMT</th>\n",
              "      <th>SPECIAL_CONSIDERATIONS</th>\n",
              "      <th>ASK_AMT</th>\n",
              "      <th>IS_SUCCESSFUL</th>\n",
              "    </tr>\n",
              "  </thead>\n",
              "  <tbody>\n",
              "    <tr>\n",
              "      <th>0</th>\n",
              "      <td>1.0</td>\n",
              "      <td>0.0</td>\n",
              "      <td>0.0</td>\n",
              "      <td>0.0</td>\n",
              "      <td>0.0</td>\n",
              "      <td>0.0</td>\n",
              "      <td>0.0</td>\n",
              "      <td>0.0</td>\n",
              "      <td>0.0</td>\n",
              "      <td>0.0</td>\n",
              "      <td>...</td>\n",
              "      <td>T10</td>\n",
              "      <td>Independent</td>\n",
              "      <td>C1000</td>\n",
              "      <td>ProductDev</td>\n",
              "      <td>Association</td>\n",
              "      <td>1</td>\n",
              "      <td>0</td>\n",
              "      <td>N</td>\n",
              "      <td>5000</td>\n",
              "      <td>1</td>\n",
              "    </tr>\n",
              "    <tr>\n",
              "      <th>1</th>\n",
              "      <td>0.0</td>\n",
              "      <td>0.0</td>\n",
              "      <td>0.0</td>\n",
              "      <td>0.0</td>\n",
              "      <td>0.0</td>\n",
              "      <td>0.0</td>\n",
              "      <td>0.0</td>\n",
              "      <td>0.0</td>\n",
              "      <td>0.0</td>\n",
              "      <td>0.0</td>\n",
              "      <td>...</td>\n",
              "      <td>T3</td>\n",
              "      <td>Independent</td>\n",
              "      <td>C2000</td>\n",
              "      <td>Preservation</td>\n",
              "      <td>Co-operative</td>\n",
              "      <td>1</td>\n",
              "      <td>1-9999</td>\n",
              "      <td>N</td>\n",
              "      <td>108590</td>\n",
              "      <td>1</td>\n",
              "    </tr>\n",
              "    <tr>\n",
              "      <th>2</th>\n",
              "      <td>0.0</td>\n",
              "      <td>0.0</td>\n",
              "      <td>0.0</td>\n",
              "      <td>0.0</td>\n",
              "      <td>0.0</td>\n",
              "      <td>0.0</td>\n",
              "      <td>0.0</td>\n",
              "      <td>0.0</td>\n",
              "      <td>0.0</td>\n",
              "      <td>0.0</td>\n",
              "      <td>...</td>\n",
              "      <td>T5</td>\n",
              "      <td>CompanySponsored</td>\n",
              "      <td>C3000</td>\n",
              "      <td>ProductDev</td>\n",
              "      <td>Association</td>\n",
              "      <td>1</td>\n",
              "      <td>0</td>\n",
              "      <td>N</td>\n",
              "      <td>5000</td>\n",
              "      <td>0</td>\n",
              "    </tr>\n",
              "    <tr>\n",
              "      <th>3</th>\n",
              "      <td>0.0</td>\n",
              "      <td>0.0</td>\n",
              "      <td>0.0</td>\n",
              "      <td>0.0</td>\n",
              "      <td>0.0</td>\n",
              "      <td>0.0</td>\n",
              "      <td>0.0</td>\n",
              "      <td>0.0</td>\n",
              "      <td>0.0</td>\n",
              "      <td>0.0</td>\n",
              "      <td>...</td>\n",
              "      <td>T3</td>\n",
              "      <td>CompanySponsored</td>\n",
              "      <td>C2000</td>\n",
              "      <td>Preservation</td>\n",
              "      <td>Trust</td>\n",
              "      <td>1</td>\n",
              "      <td>10000-24999</td>\n",
              "      <td>N</td>\n",
              "      <td>6692</td>\n",
              "      <td>1</td>\n",
              "    </tr>\n",
              "    <tr>\n",
              "      <th>4</th>\n",
              "      <td>0.0</td>\n",
              "      <td>0.0</td>\n",
              "      <td>0.0</td>\n",
              "      <td>0.0</td>\n",
              "      <td>0.0</td>\n",
              "      <td>0.0</td>\n",
              "      <td>0.0</td>\n",
              "      <td>0.0</td>\n",
              "      <td>0.0</td>\n",
              "      <td>0.0</td>\n",
              "      <td>...</td>\n",
              "      <td>T3</td>\n",
              "      <td>Independent</td>\n",
              "      <td>C1000</td>\n",
              "      <td>Heathcare</td>\n",
              "      <td>Trust</td>\n",
              "      <td>1</td>\n",
              "      <td>100000-499999</td>\n",
              "      <td>N</td>\n",
              "      <td>142590</td>\n",
              "      <td>1</td>\n",
              "    </tr>\n",
              "  </tbody>\n",
              "</table>\n",
              "<p>5 rows × 128 columns</p>\n",
              "</div>\n",
              "      <button class=\"colab-df-convert\" onclick=\"convertToInteractive('df-f4ace639-08c3-4fde-aad7-30b4cc8ce9e3')\"\n",
              "              title=\"Convert this dataframe to an interactive table.\"\n",
              "              style=\"display:none;\">\n",
              "        \n",
              "  <svg xmlns=\"http://www.w3.org/2000/svg\" height=\"24px\"viewBox=\"0 0 24 24\"\n",
              "       width=\"24px\">\n",
              "    <path d=\"M0 0h24v24H0V0z\" fill=\"none\"/>\n",
              "    <path d=\"M18.56 5.44l.94 2.06.94-2.06 2.06-.94-2.06-.94-.94-2.06-.94 2.06-2.06.94zm-11 1L8.5 8.5l.94-2.06 2.06-.94-2.06-.94L8.5 2.5l-.94 2.06-2.06.94zm10 10l.94 2.06.94-2.06 2.06-.94-2.06-.94-.94-2.06-.94 2.06-2.06.94z\"/><path d=\"M17.41 7.96l-1.37-1.37c-.4-.4-.92-.59-1.43-.59-.52 0-1.04.2-1.43.59L10.3 9.45l-7.72 7.72c-.78.78-.78 2.05 0 2.83L4 21.41c.39.39.9.59 1.41.59.51 0 1.02-.2 1.41-.59l7.78-7.78 2.81-2.81c.8-.78.8-2.07 0-2.86zM5.41 20L4 18.59l7.72-7.72 1.47 1.35L5.41 20z\"/>\n",
              "  </svg>\n",
              "      </button>\n",
              "      \n",
              "  <style>\n",
              "    .colab-df-container {\n",
              "      display:flex;\n",
              "      flex-wrap:wrap;\n",
              "      gap: 12px;\n",
              "    }\n",
              "\n",
              "    .colab-df-convert {\n",
              "      background-color: #E8F0FE;\n",
              "      border: none;\n",
              "      border-radius: 50%;\n",
              "      cursor: pointer;\n",
              "      display: none;\n",
              "      fill: #1967D2;\n",
              "      height: 32px;\n",
              "      padding: 0 0 0 0;\n",
              "      width: 32px;\n",
              "    }\n",
              "\n",
              "    .colab-df-convert:hover {\n",
              "      background-color: #E2EBFA;\n",
              "      box-shadow: 0px 1px 2px rgba(60, 64, 67, 0.3), 0px 1px 3px 1px rgba(60, 64, 67, 0.15);\n",
              "      fill: #174EA6;\n",
              "    }\n",
              "\n",
              "    [theme=dark] .colab-df-convert {\n",
              "      background-color: #3B4455;\n",
              "      fill: #D2E3FC;\n",
              "    }\n",
              "\n",
              "    [theme=dark] .colab-df-convert:hover {\n",
              "      background-color: #434B5C;\n",
              "      box-shadow: 0px 1px 3px 1px rgba(0, 0, 0, 0.15);\n",
              "      filter: drop-shadow(0px 1px 2px rgba(0, 0, 0, 0.3));\n",
              "      fill: #FFFFFF;\n",
              "    }\n",
              "  </style>\n",
              "\n",
              "      <script>\n",
              "        const buttonEl =\n",
              "          document.querySelector('#df-f4ace639-08c3-4fde-aad7-30b4cc8ce9e3 button.colab-df-convert');\n",
              "        buttonEl.style.display =\n",
              "          google.colab.kernel.accessAllowed ? 'block' : 'none';\n",
              "\n",
              "        async function convertToInteractive(key) {\n",
              "          const element = document.querySelector('#df-f4ace639-08c3-4fde-aad7-30b4cc8ce9e3');\n",
              "          const dataTable =\n",
              "            await google.colab.kernel.invokeFunction('convertToInteractive',\n",
              "                                                     [key], {});\n",
              "          if (!dataTable) return;\n",
              "\n",
              "          const docLinkHtml = 'Like what you see? Visit the ' +\n",
              "            '<a target=\"_blank\" href=https://colab.research.google.com/notebooks/data_table.ipynb>data table notebook</a>'\n",
              "            + ' to learn more about interactive tables.';\n",
              "          element.innerHTML = '';\n",
              "          dataTable['output_type'] = 'display_data';\n",
              "          await google.colab.output.renderOutput(dataTable, element);\n",
              "          const docLink = document.createElement('div');\n",
              "          docLink.innerHTML = docLinkHtml;\n",
              "          element.appendChild(docLink);\n",
              "        }\n",
              "      </script>\n",
              "    </div>\n",
              "  </div>\n",
              "  "
            ]
          },
          "metadata": {},
          "execution_count": 10
        }
      ]
    },
    {
      "cell_type": "markdown",
      "metadata": {
        "id": "RJHzn3uyURsG"
      },
      "source": [
        "### Step 5: Using the preprocessed data, create the features (`X`) and target (`y`) datasets. The target dataset should be defined by the preprocessed DataFrame column “IS_SUCCESSFUL”. The remaining columns should define the features dataset. \n",
        "\n"
      ]
    },
    {
      "cell_type": "code",
      "metadata": {
        "id": "XpmWKy35URsG",
        "colab": {
          "base_uri": "https://localhost:8080/"
        },
        "outputId": "a25a02e7-7f1a-46b7-9e74-2a433620cafd"
      },
      "source": [
        "# Define the target set y using the IS_SUCCESSFUL column\n",
        "y = encoded_df[\"IS_SUCCESSFUL\"]\n",
        "\n",
        "# Display a sample of y\n",
        "y\n"
      ],
      "execution_count": 11,
      "outputs": [
        {
          "output_type": "execute_result",
          "data": {
            "text/plain": [
              "0        1\n",
              "1        1\n",
              "2        0\n",
              "3        1\n",
              "4        1\n",
              "        ..\n",
              "34294    0\n",
              "34295    0\n",
              "34296    0\n",
              "34297    1\n",
              "34298    0\n",
              "Name: IS_SUCCESSFUL, Length: 34299, dtype: int64"
            ]
          },
          "metadata": {},
          "execution_count": 11
        }
      ]
    },
    {
      "cell_type": "code",
      "metadata": {
        "id": "SzVEfRlaURsG",
        "colab": {
          "base_uri": "https://localhost:8080/",
          "height": 423
        },
        "outputId": "b4dcaaf4-0fe8-40d6-fdaa-9a5f1744f14c"
      },
      "source": [
        "# Define features set X by selecting all columns but IS_SUCCESSFUL\n",
        "X = encoded_df.iloc[:, 0:118]\n",
        "\n",
        "# Review the features DataFrame\n",
        "X\n"
      ],
      "execution_count": 12,
      "outputs": [
        {
          "output_type": "execute_result",
          "data": {
            "text/plain": [
              "       0    1    2    3    4    5    6    7    8    9    ...  108  109  110  \\\n",
              "0      1.0  0.0  0.0  0.0  0.0  0.0  0.0  0.0  0.0  0.0  ...  0.0  0.0  0.0   \n",
              "1      0.0  0.0  0.0  0.0  0.0  0.0  0.0  0.0  0.0  0.0  ...  0.0  0.0  0.0   \n",
              "2      0.0  0.0  0.0  0.0  0.0  0.0  0.0  0.0  0.0  0.0  ...  0.0  0.0  0.0   \n",
              "3      0.0  0.0  0.0  0.0  0.0  0.0  0.0  0.0  0.0  0.0  ...  0.0  0.0  0.0   \n",
              "4      0.0  0.0  0.0  0.0  0.0  0.0  0.0  0.0  0.0  0.0  ...  1.0  0.0  0.0   \n",
              "...    ...  ...  ...  ...  ...  ...  ...  ...  ...  ...  ...  ...  ...  ...   \n",
              "34294  0.0  0.0  0.0  0.0  0.0  0.0  0.0  0.0  0.0  0.0  ...  0.0  0.0  0.0   \n",
              "34295  0.0  0.0  0.0  0.0  0.0  0.0  0.0  0.0  0.0  0.0  ...  0.0  0.0  0.0   \n",
              "34296  0.0  0.0  0.0  0.0  0.0  0.0  0.0  0.0  0.0  0.0  ...  0.0  0.0  0.0   \n",
              "34297  0.0  0.0  0.0  0.0  0.0  0.0  0.0  0.0  0.0  0.0  ...  0.0  0.0  0.0   \n",
              "34298  0.0  0.0  0.0  0.0  0.0  0.0  0.0  0.0  0.0  0.0  ...  0.0  0.0  1.0   \n",
              "\n",
              "       111  112  113  114  115  116  117  \n",
              "0      0.0  0.0  0.0  1.0  0.0  0.0  1.0  \n",
              "1      0.0  0.0  0.0  1.0  0.0  0.0  1.0  \n",
              "2      0.0  0.0  0.0  1.0  0.0  1.0  0.0  \n",
              "3      0.0  0.0  0.0  1.0  0.0  0.0  1.0  \n",
              "4      0.0  0.0  0.0  1.0  0.0  0.0  1.0  \n",
              "...    ...  ...  ...  ...  ...  ...  ...  \n",
              "34294  0.0  0.0  0.0  1.0  0.0  1.0  0.0  \n",
              "34295  0.0  0.0  0.0  1.0  0.0  1.0  0.0  \n",
              "34296  0.0  0.0  0.0  1.0  0.0  1.0  0.0  \n",
              "34297  0.0  0.0  0.0  1.0  0.0  0.0  1.0  \n",
              "34298  0.0  0.0  0.0  1.0  0.0  1.0  0.0  \n",
              "\n",
              "[34299 rows x 118 columns]"
            ],
            "text/html": [
              "\n",
              "  <div id=\"df-f907bbf5-8c98-4516-b2ba-178879f9c69a\">\n",
              "    <div class=\"colab-df-container\">\n",
              "      <div>\n",
              "<style scoped>\n",
              "    .dataframe tbody tr th:only-of-type {\n",
              "        vertical-align: middle;\n",
              "    }\n",
              "\n",
              "    .dataframe tbody tr th {\n",
              "        vertical-align: top;\n",
              "    }\n",
              "\n",
              "    .dataframe thead th {\n",
              "        text-align: right;\n",
              "    }\n",
              "</style>\n",
              "<table border=\"1\" class=\"dataframe\">\n",
              "  <thead>\n",
              "    <tr style=\"text-align: right;\">\n",
              "      <th></th>\n",
              "      <th>0</th>\n",
              "      <th>1</th>\n",
              "      <th>2</th>\n",
              "      <th>3</th>\n",
              "      <th>4</th>\n",
              "      <th>5</th>\n",
              "      <th>6</th>\n",
              "      <th>7</th>\n",
              "      <th>8</th>\n",
              "      <th>9</th>\n",
              "      <th>...</th>\n",
              "      <th>108</th>\n",
              "      <th>109</th>\n",
              "      <th>110</th>\n",
              "      <th>111</th>\n",
              "      <th>112</th>\n",
              "      <th>113</th>\n",
              "      <th>114</th>\n",
              "      <th>115</th>\n",
              "      <th>116</th>\n",
              "      <th>117</th>\n",
              "    </tr>\n",
              "  </thead>\n",
              "  <tbody>\n",
              "    <tr>\n",
              "      <th>0</th>\n",
              "      <td>1.0</td>\n",
              "      <td>0.0</td>\n",
              "      <td>0.0</td>\n",
              "      <td>0.0</td>\n",
              "      <td>0.0</td>\n",
              "      <td>0.0</td>\n",
              "      <td>0.0</td>\n",
              "      <td>0.0</td>\n",
              "      <td>0.0</td>\n",
              "      <td>0.0</td>\n",
              "      <td>...</td>\n",
              "      <td>0.0</td>\n",
              "      <td>0.0</td>\n",
              "      <td>0.0</td>\n",
              "      <td>0.0</td>\n",
              "      <td>0.0</td>\n",
              "      <td>0.0</td>\n",
              "      <td>1.0</td>\n",
              "      <td>0.0</td>\n",
              "      <td>0.0</td>\n",
              "      <td>1.0</td>\n",
              "    </tr>\n",
              "    <tr>\n",
              "      <th>1</th>\n",
              "      <td>0.0</td>\n",
              "      <td>0.0</td>\n",
              "      <td>0.0</td>\n",
              "      <td>0.0</td>\n",
              "      <td>0.0</td>\n",
              "      <td>0.0</td>\n",
              "      <td>0.0</td>\n",
              "      <td>0.0</td>\n",
              "      <td>0.0</td>\n",
              "      <td>0.0</td>\n",
              "      <td>...</td>\n",
              "      <td>0.0</td>\n",
              "      <td>0.0</td>\n",
              "      <td>0.0</td>\n",
              "      <td>0.0</td>\n",
              "      <td>0.0</td>\n",
              "      <td>0.0</td>\n",
              "      <td>1.0</td>\n",
              "      <td>0.0</td>\n",
              "      <td>0.0</td>\n",
              "      <td>1.0</td>\n",
              "    </tr>\n",
              "    <tr>\n",
              "      <th>2</th>\n",
              "      <td>0.0</td>\n",
              "      <td>0.0</td>\n",
              "      <td>0.0</td>\n",
              "      <td>0.0</td>\n",
              "      <td>0.0</td>\n",
              "      <td>0.0</td>\n",
              "      <td>0.0</td>\n",
              "      <td>0.0</td>\n",
              "      <td>0.0</td>\n",
              "      <td>0.0</td>\n",
              "      <td>...</td>\n",
              "      <td>0.0</td>\n",
              "      <td>0.0</td>\n",
              "      <td>0.0</td>\n",
              "      <td>0.0</td>\n",
              "      <td>0.0</td>\n",
              "      <td>0.0</td>\n",
              "      <td>1.0</td>\n",
              "      <td>0.0</td>\n",
              "      <td>1.0</td>\n",
              "      <td>0.0</td>\n",
              "    </tr>\n",
              "    <tr>\n",
              "      <th>3</th>\n",
              "      <td>0.0</td>\n",
              "      <td>0.0</td>\n",
              "      <td>0.0</td>\n",
              "      <td>0.0</td>\n",
              "      <td>0.0</td>\n",
              "      <td>0.0</td>\n",
              "      <td>0.0</td>\n",
              "      <td>0.0</td>\n",
              "      <td>0.0</td>\n",
              "      <td>0.0</td>\n",
              "      <td>...</td>\n",
              "      <td>0.0</td>\n",
              "      <td>0.0</td>\n",
              "      <td>0.0</td>\n",
              "      <td>0.0</td>\n",
              "      <td>0.0</td>\n",
              "      <td>0.0</td>\n",
              "      <td>1.0</td>\n",
              "      <td>0.0</td>\n",
              "      <td>0.0</td>\n",
              "      <td>1.0</td>\n",
              "    </tr>\n",
              "    <tr>\n",
              "      <th>4</th>\n",
              "      <td>0.0</td>\n",
              "      <td>0.0</td>\n",
              "      <td>0.0</td>\n",
              "      <td>0.0</td>\n",
              "      <td>0.0</td>\n",
              "      <td>0.0</td>\n",
              "      <td>0.0</td>\n",
              "      <td>0.0</td>\n",
              "      <td>0.0</td>\n",
              "      <td>0.0</td>\n",
              "      <td>...</td>\n",
              "      <td>1.0</td>\n",
              "      <td>0.0</td>\n",
              "      <td>0.0</td>\n",
              "      <td>0.0</td>\n",
              "      <td>0.0</td>\n",
              "      <td>0.0</td>\n",
              "      <td>1.0</td>\n",
              "      <td>0.0</td>\n",
              "      <td>0.0</td>\n",
              "      <td>1.0</td>\n",
              "    </tr>\n",
              "    <tr>\n",
              "      <th>...</th>\n",
              "      <td>...</td>\n",
              "      <td>...</td>\n",
              "      <td>...</td>\n",
              "      <td>...</td>\n",
              "      <td>...</td>\n",
              "      <td>...</td>\n",
              "      <td>...</td>\n",
              "      <td>...</td>\n",
              "      <td>...</td>\n",
              "      <td>...</td>\n",
              "      <td>...</td>\n",
              "      <td>...</td>\n",
              "      <td>...</td>\n",
              "      <td>...</td>\n",
              "      <td>...</td>\n",
              "      <td>...</td>\n",
              "      <td>...</td>\n",
              "      <td>...</td>\n",
              "      <td>...</td>\n",
              "      <td>...</td>\n",
              "      <td>...</td>\n",
              "    </tr>\n",
              "    <tr>\n",
              "      <th>34294</th>\n",
              "      <td>0.0</td>\n",
              "      <td>0.0</td>\n",
              "      <td>0.0</td>\n",
              "      <td>0.0</td>\n",
              "      <td>0.0</td>\n",
              "      <td>0.0</td>\n",
              "      <td>0.0</td>\n",
              "      <td>0.0</td>\n",
              "      <td>0.0</td>\n",
              "      <td>0.0</td>\n",
              "      <td>...</td>\n",
              "      <td>0.0</td>\n",
              "      <td>0.0</td>\n",
              "      <td>0.0</td>\n",
              "      <td>0.0</td>\n",
              "      <td>0.0</td>\n",
              "      <td>0.0</td>\n",
              "      <td>1.0</td>\n",
              "      <td>0.0</td>\n",
              "      <td>1.0</td>\n",
              "      <td>0.0</td>\n",
              "    </tr>\n",
              "    <tr>\n",
              "      <th>34295</th>\n",
              "      <td>0.0</td>\n",
              "      <td>0.0</td>\n",
              "      <td>0.0</td>\n",
              "      <td>0.0</td>\n",
              "      <td>0.0</td>\n",
              "      <td>0.0</td>\n",
              "      <td>0.0</td>\n",
              "      <td>0.0</td>\n",
              "      <td>0.0</td>\n",
              "      <td>0.0</td>\n",
              "      <td>...</td>\n",
              "      <td>0.0</td>\n",
              "      <td>0.0</td>\n",
              "      <td>0.0</td>\n",
              "      <td>0.0</td>\n",
              "      <td>0.0</td>\n",
              "      <td>0.0</td>\n",
              "      <td>1.0</td>\n",
              "      <td>0.0</td>\n",
              "      <td>1.0</td>\n",
              "      <td>0.0</td>\n",
              "    </tr>\n",
              "    <tr>\n",
              "      <th>34296</th>\n",
              "      <td>0.0</td>\n",
              "      <td>0.0</td>\n",
              "      <td>0.0</td>\n",
              "      <td>0.0</td>\n",
              "      <td>0.0</td>\n",
              "      <td>0.0</td>\n",
              "      <td>0.0</td>\n",
              "      <td>0.0</td>\n",
              "      <td>0.0</td>\n",
              "      <td>0.0</td>\n",
              "      <td>...</td>\n",
              "      <td>0.0</td>\n",
              "      <td>0.0</td>\n",
              "      <td>0.0</td>\n",
              "      <td>0.0</td>\n",
              "      <td>0.0</td>\n",
              "      <td>0.0</td>\n",
              "      <td>1.0</td>\n",
              "      <td>0.0</td>\n",
              "      <td>1.0</td>\n",
              "      <td>0.0</td>\n",
              "    </tr>\n",
              "    <tr>\n",
              "      <th>34297</th>\n",
              "      <td>0.0</td>\n",
              "      <td>0.0</td>\n",
              "      <td>0.0</td>\n",
              "      <td>0.0</td>\n",
              "      <td>0.0</td>\n",
              "      <td>0.0</td>\n",
              "      <td>0.0</td>\n",
              "      <td>0.0</td>\n",
              "      <td>0.0</td>\n",
              "      <td>0.0</td>\n",
              "      <td>...</td>\n",
              "      <td>0.0</td>\n",
              "      <td>0.0</td>\n",
              "      <td>0.0</td>\n",
              "      <td>0.0</td>\n",
              "      <td>0.0</td>\n",
              "      <td>0.0</td>\n",
              "      <td>1.0</td>\n",
              "      <td>0.0</td>\n",
              "      <td>0.0</td>\n",
              "      <td>1.0</td>\n",
              "    </tr>\n",
              "    <tr>\n",
              "      <th>34298</th>\n",
              "      <td>0.0</td>\n",
              "      <td>0.0</td>\n",
              "      <td>0.0</td>\n",
              "      <td>0.0</td>\n",
              "      <td>0.0</td>\n",
              "      <td>0.0</td>\n",
              "      <td>0.0</td>\n",
              "      <td>0.0</td>\n",
              "      <td>0.0</td>\n",
              "      <td>0.0</td>\n",
              "      <td>...</td>\n",
              "      <td>0.0</td>\n",
              "      <td>0.0</td>\n",
              "      <td>1.0</td>\n",
              "      <td>0.0</td>\n",
              "      <td>0.0</td>\n",
              "      <td>0.0</td>\n",
              "      <td>1.0</td>\n",
              "      <td>0.0</td>\n",
              "      <td>1.0</td>\n",
              "      <td>0.0</td>\n",
              "    </tr>\n",
              "  </tbody>\n",
              "</table>\n",
              "<p>34299 rows × 118 columns</p>\n",
              "</div>\n",
              "      <button class=\"colab-df-convert\" onclick=\"convertToInteractive('df-f907bbf5-8c98-4516-b2ba-178879f9c69a')\"\n",
              "              title=\"Convert this dataframe to an interactive table.\"\n",
              "              style=\"display:none;\">\n",
              "        \n",
              "  <svg xmlns=\"http://www.w3.org/2000/svg\" height=\"24px\"viewBox=\"0 0 24 24\"\n",
              "       width=\"24px\">\n",
              "    <path d=\"M0 0h24v24H0V0z\" fill=\"none\"/>\n",
              "    <path d=\"M18.56 5.44l.94 2.06.94-2.06 2.06-.94-2.06-.94-.94-2.06-.94 2.06-2.06.94zm-11 1L8.5 8.5l.94-2.06 2.06-.94-2.06-.94L8.5 2.5l-.94 2.06-2.06.94zm10 10l.94 2.06.94-2.06 2.06-.94-2.06-.94-.94-2.06-.94 2.06-2.06.94z\"/><path d=\"M17.41 7.96l-1.37-1.37c-.4-.4-.92-.59-1.43-.59-.52 0-1.04.2-1.43.59L10.3 9.45l-7.72 7.72c-.78.78-.78 2.05 0 2.83L4 21.41c.39.39.9.59 1.41.59.51 0 1.02-.2 1.41-.59l7.78-7.78 2.81-2.81c.8-.78.8-2.07 0-2.86zM5.41 20L4 18.59l7.72-7.72 1.47 1.35L5.41 20z\"/>\n",
              "  </svg>\n",
              "      </button>\n",
              "      \n",
              "  <style>\n",
              "    .colab-df-container {\n",
              "      display:flex;\n",
              "      flex-wrap:wrap;\n",
              "      gap: 12px;\n",
              "    }\n",
              "\n",
              "    .colab-df-convert {\n",
              "      background-color: #E8F0FE;\n",
              "      border: none;\n",
              "      border-radius: 50%;\n",
              "      cursor: pointer;\n",
              "      display: none;\n",
              "      fill: #1967D2;\n",
              "      height: 32px;\n",
              "      padding: 0 0 0 0;\n",
              "      width: 32px;\n",
              "    }\n",
              "\n",
              "    .colab-df-convert:hover {\n",
              "      background-color: #E2EBFA;\n",
              "      box-shadow: 0px 1px 2px rgba(60, 64, 67, 0.3), 0px 1px 3px 1px rgba(60, 64, 67, 0.15);\n",
              "      fill: #174EA6;\n",
              "    }\n",
              "\n",
              "    [theme=dark] .colab-df-convert {\n",
              "      background-color: #3B4455;\n",
              "      fill: #D2E3FC;\n",
              "    }\n",
              "\n",
              "    [theme=dark] .colab-df-convert:hover {\n",
              "      background-color: #434B5C;\n",
              "      box-shadow: 0px 1px 3px 1px rgba(0, 0, 0, 0.15);\n",
              "      filter: drop-shadow(0px 1px 2px rgba(0, 0, 0, 0.3));\n",
              "      fill: #FFFFFF;\n",
              "    }\n",
              "  </style>\n",
              "\n",
              "      <script>\n",
              "        const buttonEl =\n",
              "          document.querySelector('#df-f907bbf5-8c98-4516-b2ba-178879f9c69a button.colab-df-convert');\n",
              "        buttonEl.style.display =\n",
              "          google.colab.kernel.accessAllowed ? 'block' : 'none';\n",
              "\n",
              "        async function convertToInteractive(key) {\n",
              "          const element = document.querySelector('#df-f907bbf5-8c98-4516-b2ba-178879f9c69a');\n",
              "          const dataTable =\n",
              "            await google.colab.kernel.invokeFunction('convertToInteractive',\n",
              "                                                     [key], {});\n",
              "          if (!dataTable) return;\n",
              "\n",
              "          const docLinkHtml = 'Like what you see? Visit the ' +\n",
              "            '<a target=\"_blank\" href=https://colab.research.google.com/notebooks/data_table.ipynb>data table notebook</a>'\n",
              "            + ' to learn more about interactive tables.';\n",
              "          element.innerHTML = '';\n",
              "          dataTable['output_type'] = 'display_data';\n",
              "          await google.colab.output.renderOutput(dataTable, element);\n",
              "          const docLink = document.createElement('div');\n",
              "          docLink.innerHTML = docLinkHtml;\n",
              "          element.appendChild(docLink);\n",
              "        }\n",
              "      </script>\n",
              "    </div>\n",
              "  </div>\n",
              "  "
            ]
          },
          "metadata": {},
          "execution_count": 12
        }
      ]
    },
    {
      "cell_type": "markdown",
      "metadata": {
        "id": "Wgb0PFDKURsG"
      },
      "source": [
        "### Step 6: Split the features and target sets into training and testing datasets.\n"
      ]
    },
    {
      "cell_type": "code",
      "metadata": {
        "id": "M_vGfjV4URsG"
      },
      "source": [
        "# Split the preprocessed data into a training and testing dataset\n",
        "# Assign the function a random_state equal to 1\n",
        "X_train, X_test, y_train, y_test = train_test_split(X, y, random_state=1)\n"
      ],
      "execution_count": 13,
      "outputs": []
    },
    {
      "cell_type": "markdown",
      "metadata": {
        "id": "hDcNY8TGURsG"
      },
      "source": [
        "### Step 7: Use scikit-learn's `StandardScaler` to scale the features data."
      ]
    },
    {
      "cell_type": "code",
      "metadata": {
        "id": "MWOH8vl-URsG"
      },
      "source": [
        "# Create a StandardScaler instance\n",
        "scaler = StandardScaler()\n",
        "\n",
        "# Fit the scaler to the features training dataset\n",
        "X_scaler = scaler.fit(X_train)\n",
        "\n",
        "# Fit the scaler to the features training dataset\n",
        "X_train_scaled = X_scaler.transform(X_train)\n",
        "X_test_scaled = X_scaler.transform(X_test)\n"
      ],
      "execution_count": 14,
      "outputs": []
    },
    {
      "cell_type": "markdown",
      "metadata": {
        "id": "RvE_rJAAURsH"
      },
      "source": [
        "---\n",
        "\n",
        "## Compile and Evaluate a Binary Classification Model Using a Neural Network"
      ]
    },
    {
      "cell_type": "markdown",
      "metadata": {
        "id": "mLD8vtTqURsH"
      },
      "source": [
        "### Step 1: Create a deep neural network by assigning the number of input features, the number of layers, and the number of neurons on each layer using Tensorflow’s Keras.\n",
        "\n",
        "> **Hint** You can start with a two-layer deep neural network model that uses the `relu` activation function for both layers.\n"
      ]
    },
    {
      "cell_type": "code",
      "metadata": {
        "id": "K1Vgwz04URsH",
        "colab": {
          "base_uri": "https://localhost:8080/"
        },
        "outputId": "ae95398d-2330-42aa-dc0d-65f2ecff3c29"
      },
      "source": [
        "# Define the the number of inputs (features) to the model\n",
        "number_input_features = 118\n",
        "\n",
        "# Review the number of features\n",
        "number_input_features\n"
      ],
      "execution_count": 15,
      "outputs": [
        {
          "output_type": "execute_result",
          "data": {
            "text/plain": [
              "118"
            ]
          },
          "metadata": {},
          "execution_count": 15
        }
      ]
    },
    {
      "cell_type": "code",
      "metadata": {
        "id": "0mcgkl8SURsH"
      },
      "source": [
        "# Define the number of neurons in the output layer\n",
        "number_output_neurons = 1"
      ],
      "execution_count": 16,
      "outputs": []
    },
    {
      "cell_type": "code",
      "metadata": {
        "id": "i0Q3iY3wURsH",
        "colab": {
          "base_uri": "https://localhost:8080/"
        },
        "outputId": "c558273e-6150-41a5-dc72-0901412250f7"
      },
      "source": [
        "# Define the number of hidden nodes for the first hidden layer\n",
        "hidden_nodes_layer1 =  8\n",
        "\n",
        "# Review the number hidden nodes in the first layer\n",
        "hidden_nodes_layer1\n"
      ],
      "execution_count": 17,
      "outputs": [
        {
          "output_type": "execute_result",
          "data": {
            "text/plain": [
              "8"
            ]
          },
          "metadata": {},
          "execution_count": 17
        }
      ]
    },
    {
      "cell_type": "code",
      "metadata": {
        "id": "Ux_lAsrvURsH",
        "colab": {
          "base_uri": "https://localhost:8080/"
        },
        "outputId": "a956eabb-fba5-4cd0-f308-4bca06177646"
      },
      "source": [
        "# Define the number of hidden nodes for the second hidden layer\n",
        "hidden_nodes_layer2 =  4\n",
        "\n",
        "# Review the number hidden nodes in the second layer\n",
        "hidden_nodes_layer2\n"
      ],
      "execution_count": 18,
      "outputs": [
        {
          "output_type": "execute_result",
          "data": {
            "text/plain": [
              "4"
            ]
          },
          "metadata": {},
          "execution_count": 18
        }
      ]
    },
    {
      "cell_type": "code",
      "metadata": {
        "id": "1kq9QWhLURsH"
      },
      "source": [
        "# Create the Sequential model instance\n",
        "nn = Sequential()\n"
      ],
      "execution_count": 19,
      "outputs": []
    },
    {
      "cell_type": "code",
      "metadata": {
        "id": "NcVrWCD_URsI"
      },
      "source": [
        "# Add the first hidden layer\n",
        "nn.add(\n",
        "    Dense(units=hidden_nodes_layer1, input_dim=number_input_features, activation=\"relu\")\n",
        ")\n"
      ],
      "execution_count": 20,
      "outputs": []
    },
    {
      "cell_type": "code",
      "metadata": {
        "id": "Ugxr6lisURsI"
      },
      "source": [
        "# Add the second hidden layer\n",
        "nn.add(Dense(units=hidden_nodes_layer2, activation=\"relu\"))\n"
      ],
      "execution_count": 21,
      "outputs": []
    },
    {
      "cell_type": "code",
      "metadata": {
        "id": "QxcGEyNoURsI"
      },
      "source": [
        "# Add the output layer to the model specifying the number of output neurons and activation function\n",
        "nn.add(Dense(units=number_output_neurons, activation=\"linear\"))\n"
      ],
      "execution_count": 22,
      "outputs": []
    },
    {
      "cell_type": "code",
      "metadata": {
        "id": "1L2ZVcXgURsI",
        "colab": {
          "base_uri": "https://localhost:8080/"
        },
        "outputId": "82d80cc8-6ecd-4be8-97b1-4809f3c3908a"
      },
      "source": [
        "# Display the Sequential model summary\n",
        "nn.summary()\n"
      ],
      "execution_count": 23,
      "outputs": [
        {
          "output_type": "stream",
          "name": "stdout",
          "text": [
            "Model: \"sequential\"\n",
            "_________________________________________________________________\n",
            " Layer (type)                Output Shape              Param #   \n",
            "=================================================================\n",
            " dense (Dense)               (None, 8)                 952       \n",
            "                                                                 \n",
            " dense_1 (Dense)             (None, 4)                 36        \n",
            "                                                                 \n",
            " dense_2 (Dense)             (None, 1)                 5         \n",
            "                                                                 \n",
            "=================================================================\n",
            "Total params: 993\n",
            "Trainable params: 993\n",
            "Non-trainable params: 0\n",
            "_________________________________________________________________\n"
          ]
        }
      ]
    },
    {
      "cell_type": "markdown",
      "metadata": {
        "id": "pzoKsvI3URsI"
      },
      "source": [
        "### Step 2: Compile and fit the model using the `binary_crossentropy` loss function, the `adam` optimizer, and the `accuracy` evaluation metric.\n"
      ]
    },
    {
      "cell_type": "code",
      "metadata": {
        "id": "PR8r_cL1URsI"
      },
      "source": [
        "# Compile the Sequential model\n",
        "nn.compile(loss=\"binary_crossentropy\", optimizer=\"adam\", metrics=[\"accuracy\"])\n"
      ],
      "execution_count": 24,
      "outputs": []
    },
    {
      "cell_type": "code",
      "metadata": {
        "id": "5_z-FPHJURsI",
        "colab": {
          "base_uri": "https://localhost:8080/"
        },
        "outputId": "a62c3a16-70c9-4f0f-bbb8-48b7547ae8fa"
      },
      "source": [
        "# Fit the model using 50 epochs and the training data\n",
        "model = nn.fit(X_train_scaled, y_train, epochs=50)\n"
      ],
      "execution_count": 25,
      "outputs": [
        {
          "output_type": "stream",
          "name": "stdout",
          "text": [
            "Epoch 1/50\n",
            "804/804 [==============================] - 1s 1ms/step - loss: 0.9694 - accuracy: 0.8520\n",
            "Epoch 2/50\n",
            "804/804 [==============================] - 1s 1ms/step - loss: 0.2595 - accuracy: 0.9771\n",
            "Epoch 3/50\n",
            "804/804 [==============================] - 1s 1ms/step - loss: 0.1761 - accuracy: 0.9865\n",
            "Epoch 4/50\n",
            "804/804 [==============================] - 1s 1ms/step - loss: 0.1627 - accuracy: 0.9882\n",
            "Epoch 5/50\n",
            "804/804 [==============================] - 1s 1ms/step - loss: 0.1515 - accuracy: 0.9893\n",
            "Epoch 6/50\n",
            "804/804 [==============================] - 1s 1ms/step - loss: 0.1445 - accuracy: 0.9901\n",
            "Epoch 7/50\n",
            "804/804 [==============================] - 1s 1ms/step - loss: 0.1405 - accuracy: 0.9903\n",
            "Epoch 8/50\n",
            "804/804 [==============================] - 1s 1ms/step - loss: 0.1231 - accuracy: 0.9918\n",
            "Epoch 9/50\n",
            "804/804 [==============================] - 1s 1ms/step - loss: 0.1231 - accuracy: 0.9916\n",
            "Epoch 10/50\n",
            "804/804 [==============================] - 1s 1ms/step - loss: 0.0821 - accuracy: 0.9945\n",
            "Epoch 11/50\n",
            "804/804 [==============================] - 1s 1ms/step - loss: 0.0815 - accuracy: 0.9946\n",
            "Epoch 12/50\n",
            "804/804 [==============================] - 1s 1ms/step - loss: 0.0814 - accuracy: 0.9946\n",
            "Epoch 13/50\n",
            "804/804 [==============================] - 1s 1ms/step - loss: 0.0814 - accuracy: 0.9946\n",
            "Epoch 14/50\n",
            "804/804 [==============================] - 1s 1ms/step - loss: 0.0814 - accuracy: 0.9947\n",
            "Epoch 15/50\n",
            "804/804 [==============================] - 1s 1ms/step - loss: 0.0814 - accuracy: 0.9947\n",
            "Epoch 16/50\n",
            "804/804 [==============================] - 1s 1ms/step - loss: 0.0813 - accuracy: 0.9947\n",
            "Epoch 17/50\n",
            "804/804 [==============================] - 1s 1ms/step - loss: 0.0830 - accuracy: 0.9945\n",
            "Epoch 18/50\n",
            "804/804 [==============================] - 1s 1ms/step - loss: 0.1013 - accuracy: 0.9933\n",
            "Epoch 19/50\n",
            "804/804 [==============================] - 1s 1ms/step - loss: 0.0916 - accuracy: 0.9937\n",
            "Epoch 20/50\n",
            "804/804 [==============================] - 1s 1ms/step - loss: 0.0895 - accuracy: 0.9940\n",
            "Epoch 21/50\n",
            "804/804 [==============================] - 1s 1ms/step - loss: 0.0893 - accuracy: 0.9941\n",
            "Epoch 22/50\n",
            "804/804 [==============================] - 1s 1ms/step - loss: 0.0893 - accuracy: 0.9941\n",
            "Epoch 23/50\n",
            "804/804 [==============================] - 1s 1ms/step - loss: 0.0893 - accuracy: 0.9942\n",
            "Epoch 24/50\n",
            "804/804 [==============================] - 1s 1ms/step - loss: 0.0828 - accuracy: 0.9944\n",
            "Epoch 25/50\n",
            "804/804 [==============================] - 1s 1ms/step - loss: 0.0753 - accuracy: 0.9950\n",
            "Epoch 26/50\n",
            "804/804 [==============================] - 1s 1ms/step - loss: 0.0751 - accuracy: 0.9950\n",
            "Epoch 27/50\n",
            "804/804 [==============================] - 1s 1ms/step - loss: 0.0750 - accuracy: 0.9951\n",
            "Epoch 28/50\n",
            "804/804 [==============================] - 1s 1ms/step - loss: 0.0750 - accuracy: 0.9951\n",
            "Epoch 29/50\n",
            "804/804 [==============================] - 1s 1ms/step - loss: 0.0750 - accuracy: 0.9951\n",
            "Epoch 30/50\n",
            "804/804 [==============================] - 1s 1ms/step - loss: 0.0750 - accuracy: 0.9951\n",
            "Epoch 31/50\n",
            "804/804 [==============================] - 1s 2ms/step - loss: 0.0750 - accuracy: 0.9951\n",
            "Epoch 32/50\n",
            "804/804 [==============================] - 1s 1ms/step - loss: 0.0750 - accuracy: 0.9951\n",
            "Epoch 33/50\n",
            "804/804 [==============================] - 1s 1ms/step - loss: 0.0750 - accuracy: 0.9951\n",
            "Epoch 34/50\n",
            "804/804 [==============================] - 1s 1ms/step - loss: 0.0750 - accuracy: 0.9951\n",
            "Epoch 35/50\n",
            "804/804 [==============================] - 1s 1ms/step - loss: 0.0750 - accuracy: 0.9951\n",
            "Epoch 36/50\n",
            "804/804 [==============================] - 1s 1ms/step - loss: 0.0750 - accuracy: 0.9951\n",
            "Epoch 37/50\n",
            "804/804 [==============================] - 1s 1ms/step - loss: 0.0751 - accuracy: 0.9950\n",
            "Epoch 38/50\n",
            "804/804 [==============================] - 1s 1ms/step - loss: 0.0750 - accuracy: 0.9951\n",
            "Epoch 39/50\n",
            "804/804 [==============================] - 1s 1ms/step - loss: 0.0739 - accuracy: 0.9951\n",
            "Epoch 40/50\n",
            "804/804 [==============================] - 1s 1ms/step - loss: 0.0621 - accuracy: 0.9958\n",
            "Epoch 41/50\n",
            "804/804 [==============================] - 1s 1ms/step - loss: 0.0565 - accuracy: 0.9963\n",
            "Epoch 42/50\n",
            "804/804 [==============================] - 1s 1ms/step - loss: 0.0601 - accuracy: 0.9960\n",
            "Epoch 43/50\n",
            "804/804 [==============================] - 1s 1ms/step - loss: 0.0599 - accuracy: 0.9961\n",
            "Epoch 44/50\n",
            "804/804 [==============================] - 1s 1ms/step - loss: 0.0599 - accuracy: 0.9961\n",
            "Epoch 45/50\n",
            "804/804 [==============================] - 1s 1ms/step - loss: 0.0599 - accuracy: 0.9961\n",
            "Epoch 46/50\n",
            "804/804 [==============================] - 1s 1ms/step - loss: 0.0599 - accuracy: 0.9961\n",
            "Epoch 47/50\n",
            "804/804 [==============================] - 1s 1ms/step - loss: 0.0599 - accuracy: 0.9961\n",
            "Epoch 48/50\n",
            "804/804 [==============================] - 1s 1ms/step - loss: 0.0599 - accuracy: 0.9961\n",
            "Epoch 49/50\n",
            "804/804 [==============================] - 1s 1ms/step - loss: 0.0599 - accuracy: 0.9961\n",
            "Epoch 50/50\n",
            "804/804 [==============================] - 1s 1ms/step - loss: 0.0599 - accuracy: 0.9961\n"
          ]
        }
      ]
    },
    {
      "cell_type": "markdown",
      "metadata": {
        "id": "JIbFSQ-FURsI"
      },
      "source": [
        "### Step 3: Evaluate the model using the test data to determine the model’s loss and accuracy.\n"
      ]
    },
    {
      "cell_type": "code",
      "metadata": {
        "id": "rWaHGdGrURsI",
        "colab": {
          "base_uri": "https://localhost:8080/"
        },
        "outputId": "0502f466-84ff-4d03-a911-524ff89eaa2c"
      },
      "source": [
        "# Evaluate the model loss and accuracy metrics using the evaluate method and the test data\n",
        "model_loss, model_accuracy = nn.evaluate(X_test_scaled, y_test, verbose=2)\n",
        "\n",
        "# Display the model loss and accuracy results\n",
        "print(f\"Loss: {model_loss}, Accuracy: {model_accuracy}\")"
      ],
      "execution_count": 26,
      "outputs": [
        {
          "output_type": "stream",
          "name": "stdout",
          "text": [
            "268/268 - 0s - loss: 0.0516 - accuracy: 0.9966 - 325ms/epoch - 1ms/step\n",
            "Loss: 0.0516481027007103, Accuracy: 0.9966180920600891\n"
          ]
        }
      ]
    },
    {
      "cell_type": "markdown",
      "metadata": {
        "id": "ppT2iIP5URsJ"
      },
      "source": [
        "### Step 4: Save and export your model to an HDF5 file, and name the file `AlphabetSoup.h5`. \n"
      ]
    },
    {
      "cell_type": "code",
      "metadata": {
        "id": "iOuA28RQURsJ"
      },
      "source": [
        "# Set the model's file path\n",
        "file_path = \"AlphabetSoup.h5\"\n",
        "\n",
        "# Export your model to a HDF5 file\n",
        "nn.save_weights(file_path)\n"
      ],
      "execution_count": 27,
      "outputs": []
    },
    {
      "cell_type": "markdown",
      "metadata": {
        "id": "xlN5E4WfURsJ"
      },
      "source": [
        "---\n",
        "\n",
        "## Optimize the neural network model\n"
      ]
    },
    {
      "cell_type": "markdown",
      "metadata": {
        "id": "0q7pN2XKURsJ"
      },
      "source": [
        "### Step 1: Define at least three new deep neural network models (resulting in the original plus 3 optimization attempts). With each, try to improve on your first model’s predictive accuracy.\n",
        "\n",
        "> **Rewind** Recall that perfect accuracy has a value of 1, so accuracy improves as its value moves closer to 1. To optimize your model for a predictive accuracy as close to 1 as possible, you can use any or all of the following techniques:\n",
        ">\n",
        "> * Adjust the input data by dropping different features columns to ensure that no variables or outliers confuse the model.\n",
        ">\n",
        "> * Add more neurons (nodes) to a hidden layer.\n",
        ">\n",
        "> * Add more hidden layers.\n",
        ">\n",
        "> * Use different activation functions for the hidden layers.\n",
        ">\n",
        "> * Add to or reduce the number of epochs in the training regimen.\n"
      ]
    },
    {
      "cell_type": "markdown",
      "metadata": {
        "id": "slhZ-iS1URsJ"
      },
      "source": [
        "### Alternative Model 1"
      ]
    },
    {
      "cell_type": "code",
      "metadata": {
        "id": "zqbrMOgCURsJ",
        "colab": {
          "base_uri": "https://localhost:8080/"
        },
        "outputId": "498e8b92-add4-4a1a-9176-d0c284135968"
      },
      "source": [
        "# Define the the number of inputs (features) to the model\n",
        "number_input_features = len(X_train.iloc[0])\n",
        "\n",
        "# Review the number of features\n",
        "number_input_features"
      ],
      "execution_count": 28,
      "outputs": [
        {
          "output_type": "execute_result",
          "data": {
            "text/plain": [
              "118"
            ]
          },
          "metadata": {},
          "execution_count": 28
        }
      ]
    },
    {
      "cell_type": "code",
      "metadata": {
        "id": "U3rrh76sURsJ"
      },
      "source": [
        "# Define the number of neurons in the output layer\n",
        "number_output_neurons_A1 = 5"
      ],
      "execution_count": 29,
      "outputs": []
    },
    {
      "cell_type": "code",
      "metadata": {
        "id": "lMOrWGBKURsJ",
        "colab": {
          "base_uri": "https://localhost:8080/"
        },
        "outputId": "27fe0838-d7e0-4adb-ee0f-f53809e1935b"
      },
      "source": [
        "# Define the number of hidden nodes for the first hidden layer\n",
        "hidden_nodes_layer1_A1 = 24\n",
        "\n",
        "# Review the number of hidden nodes in the first layer\n",
        "hidden_nodes_layer1_A1"
      ],
      "execution_count": 30,
      "outputs": [
        {
          "output_type": "execute_result",
          "data": {
            "text/plain": [
              "24"
            ]
          },
          "metadata": {},
          "execution_count": 30
        }
      ]
    },
    {
      "cell_type": "code",
      "metadata": {
        "id": "efNsx7TfURsK"
      },
      "source": [
        "# Create the Sequential model instance\n",
        "nn_A1 = Sequential()"
      ],
      "execution_count": 31,
      "outputs": []
    },
    {
      "cell_type": "code",
      "metadata": {
        "id": "0uMhdXQWURsK",
        "colab": {
          "base_uri": "https://localhost:8080/"
        },
        "outputId": "3d8216d5-864a-4f14-d65e-439909e3a3d9"
      },
      "source": [
        "# First hidden layer\n",
        "nn_A1.add(\n",
        "    Dense(units=hidden_nodes_layer1_A1, input_dim=number_input_features, activation=\"relu\")\n",
        ")\n",
        "\n",
        "# Output layer\n",
        "nn_A1.add(Dense(units=number_output_neurons_A1, activation=\"linear\"))\n",
        "\n",
        "# Check the structure of the model\n",
        "nn_A1.summary()"
      ],
      "execution_count": 32,
      "outputs": [
        {
          "output_type": "stream",
          "name": "stdout",
          "text": [
            "Model: \"sequential_1\"\n",
            "_________________________________________________________________\n",
            " Layer (type)                Output Shape              Param #   \n",
            "=================================================================\n",
            " dense_3 (Dense)             (None, 24)                2856      \n",
            "                                                                 \n",
            " dense_4 (Dense)             (None, 5)                 125       \n",
            "                                                                 \n",
            "=================================================================\n",
            "Total params: 2,981\n",
            "Trainable params: 2,981\n",
            "Non-trainable params: 0\n",
            "_________________________________________________________________\n"
          ]
        }
      ]
    },
    {
      "cell_type": "code",
      "metadata": {
        "id": "2gDpRhG7URsK"
      },
      "source": [
        "# Compile the Sequential model\n",
        "nn_A1.compile(loss=\"binary_crossentropy\", optimizer=\"adam\", metrics=[\"accuracy\"])\n"
      ],
      "execution_count": 33,
      "outputs": []
    },
    {
      "cell_type": "code",
      "metadata": {
        "id": "zE4UD4NyURsK",
        "colab": {
          "base_uri": "https://localhost:8080/"
        },
        "outputId": "7b3fb128-3bcb-48f2-b5ff-01effeed2cb5"
      },
      "source": [
        "# Fit the model using 50 epochs and the training data\n",
        "fit_model_A1 = nn_A1.fit(X_train_scaled, y_train, epochs=50)\n"
      ],
      "execution_count": 34,
      "outputs": [
        {
          "output_type": "stream",
          "name": "stdout",
          "text": [
            "Epoch 1/50\n",
            "804/804 [==============================] - 2s 1ms/step - loss: 1.3579 - accuracy: 0.1331\n",
            "Epoch 2/50\n",
            "804/804 [==============================] - 1s 1ms/step - loss: 0.3350 - accuracy: 0.0718\n",
            "Epoch 3/50\n",
            "804/804 [==============================] - 1s 1ms/step - loss: 0.2474 - accuracy: 0.0640\n",
            "Epoch 4/50\n",
            "804/804 [==============================] - 1s 1ms/step - loss: 0.2342 - accuracy: 0.0676\n",
            "Epoch 5/50\n",
            "804/804 [==============================] - 1s 1ms/step - loss: 0.2225 - accuracy: 0.0667\n",
            "Epoch 6/50\n",
            "804/804 [==============================] - 1s 1ms/step - loss: 0.1978 - accuracy: 0.0650\n",
            "Epoch 7/50\n",
            "804/804 [==============================] - 1s 1ms/step - loss: 0.1874 - accuracy: 0.0580\n",
            "Epoch 8/50\n",
            "804/804 [==============================] - 1s 1ms/step - loss: 0.1633 - accuracy: 0.0661\n",
            "Epoch 9/50\n",
            "804/804 [==============================] - 1s 1ms/step - loss: 0.1491 - accuracy: 0.0856\n",
            "Epoch 10/50\n",
            "804/804 [==============================] - 1s 1ms/step - loss: 0.1374 - accuracy: 0.1057\n",
            "Epoch 11/50\n",
            "804/804 [==============================] - 1s 1ms/step - loss: 0.1354 - accuracy: 0.1003\n",
            "Epoch 12/50\n",
            "804/804 [==============================] - 1s 1ms/step - loss: 0.1346 - accuracy: 0.1049\n",
            "Epoch 13/50\n",
            "804/804 [==============================] - 1s 1ms/step - loss: 0.1369 - accuracy: 0.1208\n",
            "Epoch 14/50\n",
            "804/804 [==============================] - 1s 1ms/step - loss: 0.1350 - accuracy: 0.0974\n",
            "Epoch 15/50\n",
            "804/804 [==============================] - 1s 1ms/step - loss: 0.1337 - accuracy: 0.0822\n",
            "Epoch 16/50\n",
            "804/804 [==============================] - 1s 1ms/step - loss: 0.1262 - accuracy: 0.0795\n",
            "Epoch 17/50\n",
            "804/804 [==============================] - 1s 1ms/step - loss: 0.1183 - accuracy: 0.0558\n",
            "Epoch 18/50\n",
            "804/804 [==============================] - 1s 1ms/step - loss: 0.1117 - accuracy: 0.0791\n",
            "Epoch 19/50\n",
            "804/804 [==============================] - 1s 1ms/step - loss: 0.1098 - accuracy: 0.0872\n",
            "Epoch 20/50\n",
            "804/804 [==============================] - 1s 1ms/step - loss: 0.1042 - accuracy: 0.0632\n",
            "Epoch 21/50\n",
            "804/804 [==============================] - 1s 1ms/step - loss: 0.0899 - accuracy: 0.0808\n",
            "Epoch 22/50\n",
            "804/804 [==============================] - 1s 1ms/step - loss: 0.0552 - accuracy: 0.0707\n",
            "Epoch 23/50\n",
            "804/804 [==============================] - 1s 1ms/step - loss: 0.0545 - accuracy: 0.0381\n",
            "Epoch 24/50\n",
            "804/804 [==============================] - 1s 1ms/step - loss: 0.0545 - accuracy: 0.0320\n",
            "Epoch 25/50\n",
            "804/804 [==============================] - 1s 1ms/step - loss: 0.0458 - accuracy: 0.0207\n",
            "Epoch 26/50\n",
            "804/804 [==============================] - 1s 1ms/step - loss: 0.0305 - accuracy: 0.0257\n",
            "Epoch 27/50\n",
            "804/804 [==============================] - 1s 1ms/step - loss: 0.0222 - accuracy: 0.0254\n",
            "Epoch 28/50\n",
            "804/804 [==============================] - 1s 1ms/step - loss: 0.0208 - accuracy: 0.0216\n",
            "Epoch 29/50\n",
            "804/804 [==============================] - 1s 1ms/step - loss: 0.0211 - accuracy: 0.0227\n",
            "Epoch 30/50\n",
            "804/804 [==============================] - 1s 1ms/step - loss: 0.0210 - accuracy: 0.0234\n",
            "Epoch 31/50\n",
            "804/804 [==============================] - 1s 1ms/step - loss: 0.0210 - accuracy: 0.0234\n",
            "Epoch 32/50\n",
            "804/804 [==============================] - 1s 1ms/step - loss: 0.0210 - accuracy: 0.0234\n",
            "Epoch 33/50\n",
            "804/804 [==============================] - 1s 1ms/step - loss: 0.0210 - accuracy: 0.0234\n",
            "Epoch 34/50\n",
            "804/804 [==============================] - 1s 1ms/step - loss: 0.0210 - accuracy: 0.0234\n",
            "Epoch 35/50\n",
            "804/804 [==============================] - 1s 1ms/step - loss: 0.0210 - accuracy: 0.0234\n",
            "Epoch 36/50\n",
            "804/804 [==============================] - 1s 1ms/step - loss: 0.0210 - accuracy: 0.0234\n",
            "Epoch 37/50\n",
            "804/804 [==============================] - 1s 1ms/step - loss: 0.0210 - accuracy: 0.0234\n",
            "Epoch 38/50\n",
            "804/804 [==============================] - 1s 1ms/step - loss: 0.0210 - accuracy: 0.0234\n",
            "Epoch 39/50\n",
            "804/804 [==============================] - 1s 1ms/step - loss: 0.0210 - accuracy: 0.0234\n",
            "Epoch 40/50\n",
            "804/804 [==============================] - 1s 1ms/step - loss: 0.0210 - accuracy: 0.0234\n",
            "Epoch 41/50\n",
            "804/804 [==============================] - 1s 1ms/step - loss: 0.0210 - accuracy: 0.0234\n",
            "Epoch 42/50\n",
            "804/804 [==============================] - 1s 1ms/step - loss: 0.0210 - accuracy: 0.0234\n",
            "Epoch 43/50\n",
            "804/804 [==============================] - 1s 1ms/step - loss: 0.0210 - accuracy: 0.0234\n",
            "Epoch 44/50\n",
            "804/804 [==============================] - 1s 1ms/step - loss: 0.0210 - accuracy: 0.0234\n",
            "Epoch 45/50\n",
            "804/804 [==============================] - 1s 1ms/step - loss: 0.0210 - accuracy: 0.0234\n",
            "Epoch 46/50\n",
            "804/804 [==============================] - 1s 1ms/step - loss: 0.0210 - accuracy: 0.0234\n",
            "Epoch 47/50\n",
            "804/804 [==============================] - 1s 1ms/step - loss: 0.0210 - accuracy: 0.0234\n",
            "Epoch 48/50\n",
            "804/804 [==============================] - 1s 1ms/step - loss: 0.0210 - accuracy: 0.0234\n",
            "Epoch 49/50\n",
            "804/804 [==============================] - 1s 1ms/step - loss: 0.0210 - accuracy: 0.0234\n",
            "Epoch 50/50\n",
            "804/804 [==============================] - 1s 1ms/step - loss: 0.0210 - accuracy: 0.0234\n"
          ]
        }
      ]
    },
    {
      "cell_type": "markdown",
      "metadata": {
        "id": "aMZAmHrlURsK"
      },
      "source": [
        "#### Alternative Model 2"
      ]
    },
    {
      "cell_type": "code",
      "metadata": {
        "id": "Mw0cxkvOURsK",
        "colab": {
          "base_uri": "https://localhost:8080/"
        },
        "outputId": "e286063a-3b4b-4989-f58a-1ae84ad5ca2e"
      },
      "source": [
        "# Define the the number of inputs (features) to the model\n",
        "number_input_features = len(X_train.iloc[0])\n",
        "\n",
        "# Review the number of features\n",
        "number_input_features"
      ],
      "execution_count": 35,
      "outputs": [
        {
          "output_type": "execute_result",
          "data": {
            "text/plain": [
              "118"
            ]
          },
          "metadata": {},
          "execution_count": 35
        }
      ]
    },
    {
      "cell_type": "code",
      "metadata": {
        "id": "qnLSrAKJURsK"
      },
      "source": [
        "# Define the number of neurons in the output layer\n",
        "number_output_neurons_A2 = 2"
      ],
      "execution_count": 36,
      "outputs": []
    },
    {
      "cell_type": "code",
      "metadata": {
        "id": "myK4iGVBURsK",
        "colab": {
          "base_uri": "https://localhost:8080/"
        },
        "outputId": "15a2f366-e356-4988-bfb9-576e320478a9"
      },
      "source": [
        "# Define the number of hidden nodes for the first hidden layer\n",
        "hidden_nodes_layer1_A2 = 4\n",
        "\n",
        "# Review the number of hidden nodes in the first layer\n",
        "hidden_nodes_layer1_A2"
      ],
      "execution_count": 37,
      "outputs": [
        {
          "output_type": "execute_result",
          "data": {
            "text/plain": [
              "4"
            ]
          },
          "metadata": {},
          "execution_count": 37
        }
      ]
    },
    {
      "cell_type": "code",
      "metadata": {
        "id": "lB6J98OSURsL"
      },
      "source": [
        "# Create the Sequential model instance\n",
        "nn_A2 = Sequential()"
      ],
      "execution_count": 38,
      "outputs": []
    },
    {
      "cell_type": "code",
      "metadata": {
        "id": "EX5HLuh9URsL",
        "colab": {
          "base_uri": "https://localhost:8080/"
        },
        "outputId": "76eb5a73-0179-4343-f843-3c4f022651dd"
      },
      "source": [
        "# First hidden layer\n",
        "nn_A2.add(\n",
        "    Dense(units=hidden_nodes_layer1_A2, input_dim=number_input_features, activation=\"relu\")\n",
        ")\n",
        "\n",
        "# Output layer\n",
        "nn_A2.add(Dense(units=number_output_neurons_A2, activation=\"linear\"))\n",
        "\n",
        "# Check the structure of the model\n",
        "nn_A2.summary()\n"
      ],
      "execution_count": 39,
      "outputs": [
        {
          "output_type": "stream",
          "name": "stdout",
          "text": [
            "Model: \"sequential_2\"\n",
            "_________________________________________________________________\n",
            " Layer (type)                Output Shape              Param #   \n",
            "=================================================================\n",
            " dense_5 (Dense)             (None, 4)                 476       \n",
            "                                                                 \n",
            " dense_6 (Dense)             (None, 1)                 5         \n",
            "                                                                 \n",
            "=================================================================\n",
            "Total params: 481\n",
            "Trainable params: 481\n",
            "Non-trainable params: 0\n",
            "_________________________________________________________________\n"
          ]
        }
      ]
    },
    {
      "cell_type": "code",
      "metadata": {
        "id": "JrI6zrIRURsL"
      },
      "source": [
        "# Compile the model\n",
        "nn_A2.compile(loss=\"binary_crossentropy\", optimizer=\"adam\", metrics=[\"accuracy\"])\n"
      ],
      "execution_count": 40,
      "outputs": []
    },
    {
      "cell_type": "code",
      "metadata": {
        "id": "8M3fXVn_URsL",
        "colab": {
          "base_uri": "https://localhost:8080/"
        },
        "outputId": "105f00ba-abd2-4f09-c739-b0ac6c4d0dc4"
      },
      "source": [
        "# Fit the model\n",
        "fit_model_A2 = nn_A2.fit(X_train_scaled, y_train, epochs=50)\n"
      ],
      "execution_count": 41,
      "outputs": [
        {
          "output_type": "stream",
          "name": "stdout",
          "text": [
            "Epoch 1/50\n",
            "804/804 [==============================] - 2s 2ms/step - loss: 1.7916 - accuracy: 0.8064\n",
            "Epoch 2/50\n",
            "804/804 [==============================] - 1s 2ms/step - loss: 0.4021 - accuracy: 0.9706\n",
            "Epoch 3/50\n",
            "804/804 [==============================] - 1s 1ms/step - loss: 0.3327 - accuracy: 0.9775\n",
            "Epoch 4/50\n",
            "804/804 [==============================] - 1s 1ms/step - loss: 0.3262 - accuracy: 0.9785\n",
            "Epoch 5/50\n",
            "804/804 [==============================] - 1s 1ms/step - loss: 0.3238 - accuracy: 0.9786\n",
            "Epoch 6/50\n",
            "804/804 [==============================] - 1s 1ms/step - loss: 0.3229 - accuracy: 0.9787\n",
            "Epoch 7/50\n",
            "804/804 [==============================] - 1s 1ms/step - loss: 0.3225 - accuracy: 0.9790\n",
            "Epoch 8/50\n",
            "804/804 [==============================] - 1s 1ms/step - loss: 0.3222 - accuracy: 0.9790\n",
            "Epoch 9/50\n",
            "804/804 [==============================] - 1s 1ms/step - loss: 0.3221 - accuracy: 0.9790\n",
            "Epoch 10/50\n",
            "804/804 [==============================] - 1s 1ms/step - loss: 0.3219 - accuracy: 0.9790\n",
            "Epoch 11/50\n",
            "804/804 [==============================] - 1s 1ms/step - loss: 0.3213 - accuracy: 0.9792\n",
            "Epoch 12/50\n",
            "804/804 [==============================] - 1s 1ms/step - loss: 0.3096 - accuracy: 0.9797\n",
            "Epoch 13/50\n",
            "804/804 [==============================] - 1s 1ms/step - loss: 0.2399 - accuracy: 0.9842\n",
            "Epoch 14/50\n",
            "804/804 [==============================] - 1s 1ms/step - loss: 0.2328 - accuracy: 0.9849\n",
            "Epoch 15/50\n",
            "804/804 [==============================] - 1s 1ms/step - loss: 0.2327 - accuracy: 0.9849\n",
            "Epoch 16/50\n",
            "804/804 [==============================] - 1s 1ms/step - loss: 0.2327 - accuracy: 0.9849\n",
            "Epoch 17/50\n",
            "804/804 [==============================] - 1s 1ms/step - loss: 0.2327 - accuracy: 0.9849\n",
            "Epoch 18/50\n",
            "804/804 [==============================] - 1s 1ms/step - loss: 0.2326 - accuracy: 0.9849\n",
            "Epoch 19/50\n",
            "804/804 [==============================] - 1s 1ms/step - loss: 0.2310 - accuracy: 0.9850\n",
            "Epoch 20/50\n",
            "804/804 [==============================] - 1s 1ms/step - loss: 0.2308 - accuracy: 0.9850\n",
            "Epoch 21/50\n",
            "804/804 [==============================] - 1s 1ms/step - loss: 0.2308 - accuracy: 0.9850\n",
            "Epoch 22/50\n",
            "804/804 [==============================] - 1s 1ms/step - loss: 0.2308 - accuracy: 0.9850\n",
            "Epoch 23/50\n",
            "804/804 [==============================] - 1s 1ms/step - loss: 0.2308 - accuracy: 0.9850\n",
            "Epoch 24/50\n",
            "804/804 [==============================] - 1s 1ms/step - loss: 0.2308 - accuracy: 0.9850\n",
            "Epoch 25/50\n",
            "804/804 [==============================] - 1s 1ms/step - loss: 0.2308 - accuracy: 0.9850\n",
            "Epoch 26/50\n",
            "804/804 [==============================] - 1s 1ms/step - loss: 0.2308 - accuracy: 0.9850\n",
            "Epoch 27/50\n",
            "804/804 [==============================] - 1s 1ms/step - loss: 0.2308 - accuracy: 0.9850\n",
            "Epoch 28/50\n",
            "804/804 [==============================] - 1s 1ms/step - loss: 0.2308 - accuracy: 0.9850\n",
            "Epoch 29/50\n",
            "804/804 [==============================] - 1s 1ms/step - loss: 0.2308 - accuracy: 0.9850\n",
            "Epoch 30/50\n",
            "804/804 [==============================] - 1s 1ms/step - loss: 0.2308 - accuracy: 0.9850\n",
            "Epoch 31/50\n",
            "804/804 [==============================] - 1s 1ms/step - loss: 0.2308 - accuracy: 0.9850\n",
            "Epoch 32/50\n",
            "804/804 [==============================] - 1s 1ms/step - loss: 0.2308 - accuracy: 0.9850\n",
            "Epoch 33/50\n",
            "804/804 [==============================] - 1s 1ms/step - loss: 0.2308 - accuracy: 0.9850\n",
            "Epoch 34/50\n",
            "804/804 [==============================] - 1s 1ms/step - loss: 0.2308 - accuracy: 0.9850\n",
            "Epoch 35/50\n",
            "804/804 [==============================] - 1s 1ms/step - loss: 0.2308 - accuracy: 0.9850\n",
            "Epoch 36/50\n",
            "804/804 [==============================] - 1s 1ms/step - loss: 0.2308 - accuracy: 0.9850\n",
            "Epoch 37/50\n",
            "804/804 [==============================] - 1s 1ms/step - loss: 0.2308 - accuracy: 0.9850\n",
            "Epoch 38/50\n",
            "804/804 [==============================] - 1s 1ms/step - loss: 0.2308 - accuracy: 0.9850\n",
            "Epoch 39/50\n",
            "804/804 [==============================] - 1s 1ms/step - loss: 0.2308 - accuracy: 0.9850\n",
            "Epoch 40/50\n",
            "804/804 [==============================] - 1s 1ms/step - loss: 0.2308 - accuracy: 0.9850\n",
            "Epoch 41/50\n",
            "804/804 [==============================] - 1s 1ms/step - loss: 0.2308 - accuracy: 0.9850\n",
            "Epoch 42/50\n",
            "804/804 [==============================] - 1s 1ms/step - loss: 0.2308 - accuracy: 0.9850\n",
            "Epoch 43/50\n",
            "804/804 [==============================] - 1s 1ms/step - loss: 0.2308 - accuracy: 0.9850\n",
            "Epoch 44/50\n",
            "804/804 [==============================] - 1s 1ms/step - loss: 0.2308 - accuracy: 0.9850\n",
            "Epoch 45/50\n",
            "804/804 [==============================] - 1s 1ms/step - loss: 0.2308 - accuracy: 0.9850\n",
            "Epoch 46/50\n",
            "804/804 [==============================] - 1s 1ms/step - loss: 0.2308 - accuracy: 0.9850\n",
            "Epoch 47/50\n",
            "804/804 [==============================] - 1s 1ms/step - loss: 0.2308 - accuracy: 0.9850\n",
            "Epoch 48/50\n",
            "804/804 [==============================] - 1s 1ms/step - loss: 0.2308 - accuracy: 0.9850\n",
            "Epoch 49/50\n",
            "804/804 [==============================] - 1s 1ms/step - loss: 0.2308 - accuracy: 0.9850\n",
            "Epoch 50/50\n",
            "804/804 [==============================] - 1s 1ms/step - loss: 0.2308 - accuracy: 0.9850\n"
          ]
        }
      ]
    },
    {
      "cell_type": "markdown",
      "metadata": {
        "id": "JkA48Z4hURsL"
      },
      "source": [
        "### Step 2: After finishing your models, display the accuracy scores achieved by each model, and compare the results."
      ]
    },
    {
      "cell_type": "code",
      "metadata": {
        "id": "RXhF6K8SURsL",
        "colab": {
          "base_uri": "https://localhost:8080/"
        },
        "outputId": "f3c28c3c-3ed4-47fe-abce-6e2244828403"
      },
      "source": [
        "print(\"Original Model Results\")\n",
        "\n",
        "# Evaluate the model loss and accuracy metrics using the evaluate method and the test data\n",
        "model_loss, model_accuracy = nn.evaluate(X_test_scaled, y_test, verbose=2)\n",
        "\n",
        "# Display the model loss and accuracy results\n",
        "print(f\"Loss: {model_loss}, Accuracy: {model_accuracy}\")"
      ],
      "execution_count": 42,
      "outputs": [
        {
          "output_type": "stream",
          "name": "stdout",
          "text": [
            "Original Model Results\n",
            "268/268 - 0s - loss: 0.0516 - accuracy: 0.9966 - 331ms/epoch - 1ms/step\n",
            "Loss: 0.0516481027007103, Accuracy: 0.9966180920600891\n"
          ]
        }
      ]
    },
    {
      "cell_type": "code",
      "metadata": {
        "id": "W52oclvkURsL",
        "colab": {
          "base_uri": "https://localhost:8080/"
        },
        "outputId": "f895f1be-41d3-4d66-cab8-36d477fbfab4"
      },
      "source": [
        "print(\"Alternative Model 1 Results\")\n",
        "\n",
        "# Evaluate the model loss and accuracy metrics using the evaluate method and the test data\n",
        "model_loss, model_accuracy = nn_A1.evaluate(X_test_scaled, y_test, verbose=2)\n",
        "\n",
        "# Display the model loss and accuracy results\n",
        "print(f\"Loss: {model_loss}, Accuracy: {model_accuracy}\")"
      ],
      "execution_count": 43,
      "outputs": [
        {
          "output_type": "stream",
          "name": "stdout",
          "text": [
            "Alternative Model 1 Results\n",
            "268/268 - 0s - loss: 0.0160 - accuracy: 0.0247 - 410ms/epoch - 2ms/step\n",
            "Loss: 0.016046013683080673, Accuracy: 0.024723032489418983\n"
          ]
        }
      ]
    },
    {
      "cell_type": "code",
      "metadata": {
        "id": "4yPtU8_nURsL",
        "colab": {
          "base_uri": "https://localhost:8080/"
        },
        "outputId": "542ae629-54a0-4f77-fe1e-0bb9c1c03785"
      },
      "source": [
        "print(\"Alternative Model 2 Results\")\n",
        "\n",
        "# Evaluate the model loss and accuracy metrics using the evaluate method and the test data\n",
        "model_loss, model_accuracy = nn_A2.evaluate(X_test_scaled, y_test, verbose=2)\n",
        "\n",
        "# Display the model loss and accuracy results\n",
        "print(f\"Loss: {model_loss}, Accuracy: {model_accuracy}\")"
      ],
      "execution_count": 44,
      "outputs": [
        {
          "output_type": "stream",
          "name": "stdout",
          "text": [
            "Alternative Model 2 Results\n",
            "268/268 - 0s - loss: 0.2502 - accuracy: 0.9836 - 286ms/epoch - 1ms/step\n",
            "Loss: 0.2501619756221771, Accuracy: 0.983556866645813\n"
          ]
        }
      ]
    },
    {
      "cell_type": "markdown",
      "metadata": {
        "id": "eQ3b2y7OURsM"
      },
      "source": [
        "### Step 3: Save each of your alternative models as an HDF5 file.\n"
      ]
    },
    {
      "cell_type": "code",
      "metadata": {
        "id": "a1tXiNBZURsM"
      },
      "source": [
        "# Set the file path for the first alternative model\n",
        "file_path = \"Alternative_1.h5\"\n",
        "\n",
        "# Export your model to a HDF5 file\n",
        "nn_A2.save_weights(file_path)\n"
      ],
      "execution_count": 45,
      "outputs": []
    },
    {
      "cell_type": "code",
      "metadata": {
        "id": "W9KTZW35URsM"
      },
      "source": [
        "# Set the file path for the second alternative model\n",
        "file_path = \"Alternative_2.h5\"\n",
        "\n",
        "# Export your model to a HDF5 file\n",
        "nn_A2.save_weights(file_path)\n"
      ],
      "execution_count": 46,
      "outputs": []
    }
  ]
}